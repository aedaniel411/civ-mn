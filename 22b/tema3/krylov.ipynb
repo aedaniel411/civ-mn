{
 "cells": [
  {
   "cell_type": "markdown",
   "id": "6e832eee-645b-4f7e-a22f-f97fe0841fc5",
   "metadata": {},
   "source": [
    "# Ecuación característica\n",
    "\n",
    "Existen algunos fenómenos físicos que al modelarse matemáticamente conducen a un *problema de valores caracteísticos*, el cual consiste en obtener soluciones diferentes de la trivial del sistema\n",
    "\n",
    "$$ \\text{A}\\bar{x}=\\lambda\\bar{x}$$\n",
    "\n",
    "donde $\\text{A}$ es una matriz de orden $n \\times n$, $x$ es el vector de incógnitas y $\\lambda$ un escalar. \n",
    "\n",
    "A simple vista, se observa que la solución trivial resuelve el sistema anterior para cualquier valor del escalar $\\lambda$; sin embargo, el problema consiste en determinar valores de $\\lambda$ tales que proporcionen una solución al sistema diferente a la trivial.\n",
    "\n",
    "Para lograr lo anterior, debe forzarse al sistema a que sea un *sistema compatible indeterminado*; de esta forma aceptará más de una solución, donde una es la trivial y cualquier otra la que resuelve el problema de valores y vectores característicos.\n",
    "\n",
    "Se reordena el sistema y la ecuación se transforma en \n",
    "\n",
    "$$ (\\text{A} - \\lambda \\mathbf{I}) \\bar{x} = 0$$\n",
    "\n",
    "Para garantizar que el sistema sea compatible indeterminado se debe igualar a ceroel determinante de la matriz de coeficientes del sistema: entonces:\n",
    "\n",
    "$$ \\text{det}|\\text{A}-\\lambda \\mathbf{I}|=0$$\n",
    "\n",
    "de aquí que al realizar el determinante se obtiene un polinomio en $\\lambda$ de grado $n$, siendo $n$ el orden del sistema; así:\n",
    "\n",
    "$$ \\text{det}|\\text{A}-\\lambda \\mathbf{I}| = a_0\\lambda^{n} + a_1\\lambda^{n-1}+ \\dots + a_{n-1}\\lambda + a_n=0$$\n",
    "\n",
    "La ecuación anterior se conoce como **ecuación característica** y su solución proporciona valores de $\\lambda$ tales que con cada uno de ellos se obtiene una solucón diferente a la trivial del sistema.\n",
    "\n",
    "A los escalares $\\lambda$ que se obtienen al resolver la ecuación se les llama **valores característicos**; a la solución del sistema que se obtiene al sistituir un valor de $\\lambda$ se le llama **vector característico** asociado al valor característico $\\lambda$"
   ]
  },
  {
   "cell_type": "markdown",
   "id": "3e75ba71-20cc-4294-9ec8-c6fbf4fbb349",
   "metadata": {},
   "source": [
    "## Método de Krylov\n",
    "\n",
    "Este método consiste en aplicar el teorema de Hamilton-Cayley que establece:\n",
    "\n",
    "*Toda matriz* $\\text{A}$ *verifica su propia ecuación característica*\n",
    "\n",
    "Eso es:\n",
    "\n",
    "$$ P(\\text{A})=0$$\n",
    "\n",
    "Entonces, para una ecuación característica de la forma:\n",
    "\n",
    "$$\\lambda^{n}+b_{1}\\lambda^{n-1}+b_{2}\\lambda^{n-2}+\\dots+b_{n-1}\\lambda+b_n=0$$\n",
    "\n",
    "se obtiene, al utilizar el teorema de Hamilton-Cayley, que:\n",
    "\n",
    "$$\\mathbf{A}^{n}+b_{1}\\mathbf{A}^{n-1}+b_{2}\\mathbf{A}^{n-2}+\\dots+b_{n-1}\\mathbf{A}+b_n\\mathbf{I}=0$$\n",
    "\n",
    "Los términos de la ecuación anterior son matrices de orden $n \\times n$ y la suma de ellas es otra matriz cuyos elemontos forman un sistema de ecuaciones algebraicas lineales con incógnitas $b_1,b_2,b_3, \\dots , b_n$ ; de estas ecuaciones se pueden obtener los coeficientes, sin embargo la obtención de las potencias de la matriz $\\mathbf{A}$ es un proceso laborioso.\n",
    "\n",
    "Para simplificar los cálculos se multiplica la ecuación por un vector cualquiera y, compatible con $\\mathbf{A}$ y diferente de cero:\n",
    "\n",
    "$$\\mathbf{A}^{n}\\bar{y}+b_{1}\\mathbf{A}^{n-1}\\bar{y}+b_{2}\\mathbf{A}^{n-2}\\bar{y}+\\dots+b_{n-1}\\mathbf{A}\\bar{y}+b_n\\bar{y}=0$$\n",
    "\n",
    "De esta manera, los términos de la ecuación son vectores en lugar de matrices y los productos de $\\mathbf{A}$ por el vector y se obtienen en forma recursiva mediante la ecuación:\n",
    "\n",
    "$$\\mathbf{A}^k\\bar{y}=[\\mathbf{A}^{k-1}\\bar{y}]\\mathbf{A}$$\n",
    "\n",
    "donde $\\mathbf{A}^{k-1}\\bar{y}$ es un vector de orden $n \\times 1$ \n",
    "\n",
    "Al sumar los vectores de la ecuación se obtiene un sistema de n-ecuaciones con n-incógnitas: $b_1,b_2,b_3,\\dots,b_n$; al resolverlo se obtienen los coeficientes de la ecuación característica."
   ]
  },
  {
   "cell_type": "markdown",
   "id": "0d538f1e-8e4f-420e-8116-176798bc434f",
   "metadata": {},
   "source": [
    "### Ejemplo\n",
    "Obtener la ecuación característica de la siguiente matriz utilizando el método de Krylov.\n",
    "\n",
    "$$\n",
    "A = \\begin{bmatrix}\n",
    "3 & 1 & 2\\\\\n",
    "-2 & -1 & 0\\\\\n",
    "-1 & 0 & -3\\\\\n",
    "\\end{bmatrix}\n",
    "$$"
   ]
  },
  {
   "cell_type": "code",
   "execution_count": 5,
   "id": "681df3d5-23c0-4036-b657-3f578f1512af",
   "metadata": {},
   "outputs": [
    {
     "name": "stdout",
     "output_type": "stream",
     "text": [
      "A =2004l\n",
      "\n",
      "   3   1   2\n",
      "  -2  -1   0\n",
      "  -1   0  -3\n",
      "\n",
      "\u001b[?2004h"
     ]
    }
   ],
   "source": [
    "A = [3 1 2; -2 -1 0; -1 0 -3]"
   ]
  },
  {
   "cell_type": "markdown",
   "id": "6895b422-f2d0-48bd-af63-e759a88937cf",
   "metadata": {},
   "source": [
    "La ecuación característica esta dada por la expresión para $n=3$ que corresponde al orden del sistema, esto es:\n",
    "\n",
    "$$\\lambda^3+b_1\\lambda^2+b_2\\lambda+b_3=0$$"
   ]
  },
  {
   "cell_type": "markdown",
   "id": "38f9440d-4f3f-44c8-84da-5b965340f381",
   "metadata": {},
   "source": [
    "El sistema de ecuaciones para conocer los valores de $b_1,b_2,b_3$ se obtiene la expresión:\n",
    "$$\\mathbf{A}^{3}\\bar{y}+b_{1}\\mathbf{A}^{2}\\bar{y}+b_{2}\\mathbf{A}\\bar{y}+b_3\\bar{y}=0$$"
   ]
  },
  {
   "cell_type": "markdown",
   "id": "22ce2a51-0670-452c-839e-545fe599e365",
   "metadata": {},
   "source": [
    "Se utiliza el vector:\n",
    "$$ \\bar{y}=\\begin{bmatrix}\n",
    "1 \\\\\n",
    "0\\\\\n",
    "0\n",
    "\\end{bmatrix}\n",
    "$$"
   ]
  },
  {
   "cell_type": "code",
   "execution_count": 4,
   "id": "e1d6ff44-b6b7-43d3-a382-2d2ccc4d4c5e",
   "metadata": {},
   "outputs": [
    {
     "name": "stdout",
     "output_type": "stream",
     "text": [
      "y =2004l\n",
      "\n",
      "   1\n",
      "   0\n",
      "   0\n",
      "\n",
      "\u001b[?2004h"
     ]
    }
   ],
   "source": [
    "y=[1;0;0]"
   ]
  },
  {
   "cell_type": "markdown",
   "id": "5f429003-6ae8-4249-8a37-83db3e1aea16",
   "metadata": {},
   "source": [
    "$$\\mathbf{A}^{3}\\bar{y}+b_{1}\\mathbf{A}^{2}\\bar{y}+b_{2}\\mathbf{A}\\bar{y}+b_3\\bar{y}=0$$\n",
    "$$\\mathbf{A}^k\\bar{y}=[\\mathbf{A}^{k-1}\\bar{y}]\\mathbf{A}$$"
   ]
  },
  {
   "cell_type": "code",
   "execution_count": 6,
   "id": "57bdb816-d86f-4798-add5-16e9927a68eb",
   "metadata": {},
   "outputs": [
    {
     "name": "stdout",
     "output_type": "stream",
     "text": [
      "y =2004l\n",
      "\n",
      "   1\n",
      "   0\n",
      "   0\n",
      "\n",
      "\u001b[?2004h"
     ]
    }
   ],
   "source": [
    "y"
   ]
  },
  {
   "cell_type": "code",
   "execution_count": 8,
   "id": "3c09a565-55da-494f-845c-926985567b6e",
   "metadata": {},
   "outputs": [
    {
     "name": "stdout",
     "output_type": "stream",
     "text": [
      "A1 =004l\n",
      "\n",
      "   3\n",
      "  -2\n",
      "  -1\n",
      "\n",
      "\u001b[?2004h"
     ]
    }
   ],
   "source": [
    "A1 = A * y"
   ]
  },
  {
   "cell_type": "markdown",
   "id": "747793bf-6a75-476c-bbb3-65fbbcd2bd81",
   "metadata": {},
   "source": [
    "$$\\mathbf{A}^{3}\\bar{y}+b_{1}\\mathbf{A}^{2}\\bar{y}+b_{2}\\mathbf{A}\\bar{y}+b_3\\bar{y}=0$$"
   ]
  },
  {
   "cell_type": "code",
   "execution_count": 9,
   "id": "dd53ed90-735d-4033-b824-db3c54d7b64a",
   "metadata": {},
   "outputs": [
    {
     "name": "stdout",
     "output_type": "stream",
     "text": [
      "A2 =004l\n",
      "\n",
      "   5\n",
      "  -4\n",
      "   0\n",
      "\n",
      "\u001b[?2004h"
     ]
    }
   ],
   "source": [
    "A2 = A * A1 "
   ]
  },
  {
   "cell_type": "code",
   "execution_count": 10,
   "id": "c972673b-b6b5-4386-a12f-fca96af7c765",
   "metadata": {},
   "outputs": [
    {
     "name": "stdout",
     "output_type": "stream",
     "text": [
      "A3 =004l\n",
      "\n",
      "   11\n",
      "   -6\n",
      "   -5\n",
      "\n",
      "\u001b[?2004h"
     ]
    }
   ],
   "source": [
    "A3 = A * A2"
   ]
  },
  {
   "cell_type": "markdown",
   "id": "9f9ef075-1a52-482d-a42f-219245033071",
   "metadata": {},
   "source": [
    "$$\\mathbf{A}^{3}\\bar{y}+b_{1}\\mathbf{A}^{2}\\bar{y}+b_{2}\\mathbf{A}\\bar{y}+b_3\\bar{y}=0$$"
   ]
  },
  {
   "cell_type": "code",
   "execution_count": 12,
   "id": "5483303d-f7cc-41bc-8cfd-ae5df82d0804",
   "metadata": {},
   "outputs": [
    {
     "name": "stdout",
     "output_type": "stream",
     "text": [
      "P =2004l\n",
      "\n",
      "    5    3    1  -11\n",
      "   -4   -2    0    6\n",
      "    0   -1    0    5\n",
      "\n",
      "\u001b[?2004h"
     ]
    }
   ],
   "source": [
    "P = [A2, A1, y , -A3]"
   ]
  },
  {
   "cell_type": "code",
   "execution_count": 13,
   "id": "8c633873-22c3-4a2f-ad4b-8be41024fee8",
   "metadata": {},
   "outputs": [
    {
     "name": "stdout",
     "output_type": "stream",
     "text": [
      "ans =04l\n",
      "\n",
      "   1   0   0   1\n",
      "   0   1   0  -5\n",
      "   0   0   1  -1\n",
      "\n",
      "\u001b[?2004h"
     ]
    }
   ],
   "source": [
    "rref(P)"
   ]
  },
  {
   "cell_type": "markdown",
   "id": "eed93e6a-0e6c-44bb-b351-af043ea96e69",
   "metadata": {},
   "source": [
    "$$\\lambda^3+b_1\\lambda^2+b_2\\lambda+b_3=0$$\n",
    "$$\\lambda^3+(1)\\lambda^2+(-5)\\lambda+(-1)=0$$"
   ]
  },
  {
   "cell_type": "code",
   "execution_count": null,
   "id": "14b1cca2-3862-4ece-bfea-c6311a97b06f",
   "metadata": {},
   "outputs": [],
   "source": []
  }
 ],
 "metadata": {
  "kernelspec": {
   "display_name": "Octave",
   "language": "octave",
   "name": "octave"
  },
  "language_info": {
   "file_extension": ".m",
   "help_links": [
    {
     "text": "GNU Octave",
     "url": "https://www.gnu.org/software/octave/support.html"
    },
    {
     "text": "Octave Kernel",
     "url": "https://github.com/Calysto/octave_kernel"
    },
    {
     "text": "MetaKernel Magics",
     "url": "https://metakernel.readthedocs.io/en/latest/source/README.html"
    }
   ],
   "mimetype": "text/x-octave",
   "name": "octave",
   "version": "\u001b[?2004h"
  }
 },
 "nbformat": 4,
 "nbformat_minor": 5
}
