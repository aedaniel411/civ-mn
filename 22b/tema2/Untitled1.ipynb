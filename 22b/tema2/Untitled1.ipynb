{
 "cells": [
  {
   "cell_type": "code",
   "execution_count": 1,
   "id": "9b5f8170-3a57-42c6-aba8-17c5c07c6362",
   "metadata": {},
   "outputs": [
    {
     "name": "stdout",
     "output_type": "stream",
     "text": [
      "\u001b[?2004l\n",
      "\u001b[?2004h\n",
      "\u001b[?2004l\n",
      "error: graphics_toolkit: 2004h toolkit is not available\n",
      "error: called from\n",
      "    graphics_toolkit at line 84 column 5\n",
      "\u001b[?2004h\n",
      "\u001b[?2004l\n",
      "\u001b[?2004h\n",
      "\u001b[?2004h\u001b[?2004l\u001b[?2004l"
     ]
    }
   ],
   "source": [
    "\n",
    "\n",
    "function xr = f(x)\n",
    "   xr = exp(x-1) - 1.5 * x; \n",
    "end"
   ]
  },
  {
   "cell_type": "code",
   "execution_count": 4,
   "id": "ed0f469b-bf3e-4cb7-9d31-f80f3faa0e22",
   "metadata": {},
   "outputs": [
    {
     "name": "stdout",
     "output_type": "stream",
     "text": [
      "Y =2004h\u001b[?2004l\n",
      "\n",
      "   0.367879   0.013417  -0.283469  -0.500000\n",
      "\n",
      "\u001b[?2004h"
     ]
    }
   ],
   "source": [
    "X = linspace(0,1,4);\n",
    "Y = f(X)\n"
   ]
  },
  {
   "cell_type": "code",
   "execution_count": 6,
   "id": "2b67b906-983e-4685-a889-8fea140e58d6",
   "metadata": {},
   "outputs": [
    {
     "name": "stdout",
     "output_type": "stream",
     "text": [
      "\u001b[?2004h\u001b[?2004l\u001b[?2004l"
     ]
    }
   ],
   "source": [
    "function r = err (actual, anterior)\n",
    "    r = abs((actual - anterior) / actual);\n",
    "end"
   ]
  },
  {
   "cell_type": "code",
   "execution_count": 7,
   "id": "3cbbb222-15ff-4f15-a799-921e4d358bca",
   "metadata": {},
   "outputs": [
    {
     "name": "stdout",
     "output_type": "stream",
     "text": [
      "error: parse error:2004l\u001b[?2004l\n",
      "\n",
      "  syntax error\n",
      "\n",
      ">>> end\n",
      "      ^\n",
      "\u001b[?2004h"
     ]
    }
   ],
   "source": [
    "er = 100;\n",
    "xactual = 100;\n",
    "while (er >= 0.0001)\n",
    "   if (f(a) * f(b) > 0 )\n",
    "       break;\n",
    "   end\n",
    "   \n",
    "   if (f(a) * f(b) == 0)\n",
    "       break;\n",
    "   end    \n",
    "   %Calculo de la siguiente aprox\n",
    "   x = bisec(a, b);\n",
    "   xanterior = xactual\n",
    "   xactual = x\n",
    "   \n",
    "   er = err(xactual, xanterior)\n",
    "   \n",
    "   if ( f(a) * f(x) < 0  )\n",
    "      b = x;\n",
    "   else\n",
    "      a = x;\n",
    "   end\n",
    "   \n",
    "end"
   ]
  },
  {
   "cell_type": "code",
   "execution_count": null,
   "id": "4b9285c5-cc5a-4251-b5ba-da9fab26a0e9",
   "metadata": {},
   "outputs": [],
   "source": []
  }
 ],
 "metadata": {
  "kernelspec": {
   "display_name": "Octave",
   "language": "octave",
   "name": "octave"
  },
  "language_info": {
   "file_extension": ".m",
   "help_links": [
    {
     "text": "GNU Octave",
     "url": "https://www.gnu.org/software/octave/support.html"
    },
    {
     "text": "Octave Kernel",
     "url": "https://github.com/Calysto/octave_kernel"
    },
    {
     "text": "MetaKernel Magics",
     "url": "https://metakernel.readthedocs.io/en/latest/source/README.html"
    }
   ],
   "mimetype": "text/x-octave",
   "name": "octave",
   "version": "\u001b[?2004h"
  }
 },
 "nbformat": 4,
 "nbformat_minor": 5
}
