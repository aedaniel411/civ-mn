{
 "cells": [
  {
   "cell_type": "code",
   "execution_count": 1,
   "id": "084e023c-f5ca-4c80-b586-54d8c4832a51",
   "metadata": {},
   "outputs": [
    {
     "name": "stdout",
     "output_type": "stream",
     "text": [
      "\u001b[?2004l\n",
      "\u001b[?2004h\n",
      "\u001b[?2004l\n",
      "error: graphics_toolkit: 2004h toolkit is not available\n",
      "error: called from\n",
      "    graphics_toolkit at line 84 column 5\n",
      "\u001b[?2004h\n",
      "\u001b[?2004l\n",
      "\u001b[?2004h\n",
      "\u001b[?2004h\u001b[?2004l\u001b[?2004l\u001b[?2004l\u001b[?2004l"
     ]
    }
   ],
   "source": [
    "\n",
    "\n",
    "function r = f(x) \n",
    "    r = 5*x^3 - 5*x^2 + 6 * x -2 ; \n",
    "end"
   ]
  },
  {
   "cell_type": "code",
   "execution_count": 2,
   "id": "6051d759-0b7b-4358-9e2c-a37988194d1c",
   "metadata": {},
   "outputs": [
    {
     "name": "stdout",
     "output_type": "stream",
     "text": [
      "ans = 0.3750\n",
      "\u001b[?2004h"
     ]
    }
   ],
   "source": [
    "f(0.5)"
   ]
  },
  {
   "cell_type": "code",
   "execution_count": 3,
   "id": "38296783-4fd3-4dc8-b74e-dff0cfdc437c",
   "metadata": {},
   "outputs": [
    {
     "name": "stdout",
     "output_type": "stream",
     "text": [
      "ans = -0.3718\n",
      "\u001b[?2004h"
     ]
    }
   ],
   "source": [
    "f(0.333)"
   ]
  },
  {
   "cell_type": "code",
   "execution_count": 4,
   "id": "fd90415d-07f4-402e-9e4f-97ee66361dd5",
   "metadata": {},
   "outputs": [
    {
     "name": "stdout",
     "output_type": "stream",
     "text": [
      "\u001b[?2004h\u001b[?2004l\u001b[?2004l"
     ]
    }
   ],
   "source": [
    "function xr = bisec(a, b)\n",
    "    xr = (a + b) / 2;\n",
    "end"
   ]
  },
  {
   "cell_type": "code",
   "execution_count": 5,
   "id": "e2b4ab0e-7e9b-40ee-91dd-4dddcba2f8b3",
   "metadata": {},
   "outputs": [
    {
     "name": "stdout",
     "output_type": "stream",
     "text": [
      "ans = 7.5000\n",
      "\u001b[?2004h"
     ]
    }
   ],
   "source": [
    "bisec(5,10)"
   ]
  },
  {
   "cell_type": "code",
   "execution_count": 6,
   "id": "141313e2-4ab2-4790-b316-29bdd1223ce1",
   "metadata": {},
   "outputs": [
    {
     "name": "stdout",
     "output_type": "stream",
     "text": [
      "\u001b[?2004h\u001b[?2004l\u001b[?2004l"
     ]
    }
   ],
   "source": [
    "function xr = rfalsa(a,b)\n",
    "    xr = (f(a) * b - f(b) * a) / ( f(a) - f(b) );\n",
    "end"
   ]
  },
  {
   "cell_type": "code",
   "execution_count": 7,
   "id": "69b335d7-9fc3-435e-8d3b-be36ac819cb4",
   "metadata": {},
   "outputs": [
    {
     "name": "stdout",
     "output_type": "stream",
     "text": [
      "ans = -2\n",
      "\u001b[?2004h"
     ]
    }
   ],
   "source": [
    "f(0)"
   ]
  },
  {
   "cell_type": "code",
   "execution_count": 9,
   "id": "fffaae7d-d609-4167-aea9-bbcfcaf3fb93",
   "metadata": {},
   "outputs": [
    {
     "name": "stdout",
     "output_type": "stream",
     "text": [
      "ans = 4l\n",
      "\u001b[?2004h"
     ]
    }
   ],
   "source": [
    "f(1.0)"
   ]
  },
  {
   "cell_type": "code",
   "execution_count": 10,
   "id": "0beed67d-c6d2-4d8e-8da7-9aa37358bf7f",
   "metadata": {},
   "outputs": [
    {
     "name": "stdout",
     "output_type": "stream",
     "text": [
      "ans = 0.5000\n",
      "\u001b[?2004h"
     ]
    }
   ],
   "source": [
    "bisec(0,1)"
   ]
  },
  {
   "cell_type": "code",
   "execution_count": 11,
   "id": "9cb4d38c-986b-49d1-a148-be576161b24c",
   "metadata": {},
   "outputs": [
    {
     "name": "stdout",
     "output_type": "stream",
     "text": [
      "ans = 0.3333\n",
      "\u001b[?2004h"
     ]
    }
   ],
   "source": [
    "rfalsa(0,1)"
   ]
  },
  {
   "cell_type": "code",
   "execution_count": 12,
   "id": "7ec9ea14-deb8-4fb8-beed-f43de6d6f6cd",
   "metadata": {},
   "outputs": [
    {
     "name": "stdout",
     "output_type": "stream",
     "text": [
      "ans = -0.3705\n",
      "\u001b[?2004h"
     ]
    }
   ],
   "source": [
    "f(0.3333)"
   ]
  },
  {
   "cell_type": "code",
   "execution_count": 13,
   "id": "a1b2ecbc-2c2c-407e-b1d5-d769b0333dab",
   "metadata": {},
   "outputs": [
    {
     "name": "stdout",
     "output_type": "stream",
     "text": [
      "ans = 0.3750\n",
      "\u001b[?2004h"
     ]
    }
   ],
   "source": [
    "f(0.5)"
   ]
  },
  {
   "cell_type": "code",
   "execution_count": 14,
   "id": "2b3208f3-a249-40d8-89e8-29d617372ff3",
   "metadata": {},
   "outputs": [
    {
     "name": "stdout",
     "output_type": "stream",
     "text": [
      "ans = 0.2500\n",
      "\u001b[?2004h"
     ]
    }
   ],
   "source": [
    "bisec(0,0.5)"
   ]
  },
  {
   "cell_type": "code",
   "execution_count": 15,
   "id": "d55a7246-17ba-42bf-8acb-22e9fd29ef60",
   "metadata": {},
   "outputs": [
    {
     "name": "stdout",
     "output_type": "stream",
     "text": [
      "ans = 0.3898\n",
      "\u001b[?2004h"
     ]
    }
   ],
   "source": [
    "rfalsa(0.3333, 1)"
   ]
  },
  {
   "cell_type": "code",
   "execution_count": 16,
   "id": "da484017-1201-4f12-9c6b-b2e45cf4802b",
   "metadata": {},
   "outputs": [
    {
     "name": "stdout",
     "output_type": "stream",
     "text": [
      "ans = -0.7344\n",
      "ans = -0.124804l\n",
      "\u001b[?2004h"
     ]
    }
   ],
   "source": [
    "f(0.25)\n",
    "f(0.3898)"
   ]
  },
  {
   "cell_type": "code",
   "execution_count": null,
   "id": "87d29be9-a6b8-4dd2-b004-f3b7fc675b7f",
   "metadata": {},
   "outputs": [],
   "source": []
  }
 ],
 "metadata": {
  "kernelspec": {
   "display_name": "Octave",
   "language": "octave",
   "name": "octave"
  },
  "language_info": {
   "file_extension": ".m",
   "help_links": [
    {
     "text": "GNU Octave",
     "url": "https://www.gnu.org/software/octave/support.html"
    },
    {
     "text": "Octave Kernel",
     "url": "https://github.com/Calysto/octave_kernel"
    },
    {
     "text": "MetaKernel Magics",
     "url": "https://metakernel.readthedocs.io/en/latest/source/README.html"
    }
   ],
   "mimetype": "text/x-octave",
   "name": "octave",
   "version": "\u001b[?2004h"
  }
 },
 "nbformat": 4,
 "nbformat_minor": 5
}
