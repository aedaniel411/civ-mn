{
 "cells": [
  {
   "cell_type": "code",
   "execution_count": 2,
   "id": "ea1482ed-d45a-4d73-9d50-0d0f4e12e050",
   "metadata": {},
   "outputs": [
    {
     "name": "stdout",
     "output_type": "stream",
     "text": [
      "error: 'syms' undefined near line 1, column 1\n",
      "\n",
      "The 'syms' function belongs to the symbolic package from Octave Forge\n",
      "which seems to not be installed in your system.\n",
      "\n",
      "Please read <https://www.octave.org/missing.html> to learn how you can\n",
      "contribute missing functionality.\n",
      "\u001b[?2004h"
     ]
    }
   ],
   "source": [
    "syms x;"
   ]
  },
  {
   "cell_type": "code",
   "execution_count": 3,
   "id": "fa1c0dc5-3c77-49b9-9e8a-e4df2137e55b",
   "metadata": {},
   "outputs": [
    {
     "name": "stdout",
     "output_type": "stream",
     "text": [
      "For information about changes from previous versions of the symbolic package, run 'news symbolic'.\n",
      "\u001b[?2004h"
     ]
    }
   ],
   "source": [
    "pkg install -forge symbolic"
   ]
  },
  {
   "cell_type": "code",
   "execution_count": 4,
   "id": "a44caa4c-d2e0-4259-9d2a-cdaf138f715b",
   "metadata": {},
   "outputs": [
    {
     "name": "stdout",
     "output_type": "stream",
     "text": [
      "error: 'syms' undefined near line 1, column 1\n",
      "\n",
      "The 'syms' function belongs to the symbolic package from Octave Forge\n",
      "which you have installed but not loaded.  To load the package, run 'pkg\n",
      "load symbolic' from the Octave prompt.\n",
      "\n",
      "Please read <https://www.octave.org/missing.html> to learn how you can\n",
      "contribute missing functionality.\n",
      "\u001b[?2004h"
     ]
    }
   ],
   "source": [
    "syms x;"
   ]
  },
  {
   "cell_type": "code",
   "execution_count": 5,
   "id": "a90d5bd8-3002-4b5b-a2c4-8d985dc21fa1",
   "metadata": {},
   "outputs": [
    {
     "name": "stdout",
     "output_type": "stream",
     "text": [
      "\u001b[?2004h"
     ]
    }
   ],
   "source": [
    "pkg load symbolic"
   ]
  },
  {
   "cell_type": "code",
   "execution_count": 6,
   "id": "1edf03f5-1f8e-48f4-bb03-bd2661eca740",
   "metadata": {},
   "outputs": [
    {
     "name": "stdout",
     "output_type": "stream",
     "text": [
      "Symbolic pkg v3.0.1: Traceback (most recent call last):\n",
      "  File \"<string>\", line 1, in <module>\n",
      "ModuleNotFoundError: No module named 'sympy'\n",
      "error: Python cannot import SymPy: have you installed SymPy?\n",
      "    Try \"sympref diagnose\" for more information.\n",
      "error: called from\n",
      "    assert_have_python_and_sympy at line 135 column 7\n",
      "    python_ipc_popen2 at line 85 column 5\n",
      "    python_ipc_driver at line 62 column 15\n",
      "    pycall_sympy__ at line 164 column 11\n",
      "    valid_sym_assumptions at line 38 column 10\n",
      "    assumptions at line 82 column 7\n",
      "    syms at line 140 column 13\n",
      "\u001b[?2004h"
     ]
    }
   ],
   "source": [
    "syms x;"
   ]
  },
  {
   "cell_type": "code",
   "execution_count": 7,
   "id": "2ad9303f-4baa-4c2f-9621-55d9a7bcad02",
   "metadata": {},
   "outputs": [
    {
     "name": "stdout",
     "output_type": "stream",
     "text": [
      "DEPRECATION: Configuring installation scheme with distutils config files is deprecated and will no longer work in the near future. If you are using a Homebrew or Linuxbrew Python, please see discussion at https://github.com/Homebrew/homebrew-core/issues/76621\n",
      "\n",
      "\n",
      "Requirement already satisfied: sympy in /usr/local/lib/python3.9/site-packages (1.9)\n",
      "\n",
      "\n",
      "Requirement already satisfied: mpmath>=0.19 in /usr/local/lib/python3.9/site-packages (from sympy) (1.2.1)\n",
      "\n",
      "\n",
      "DEPRECATION: Configuring installation scheme with distutils config files is deprecated and will no longer work in the near future. If you are using a Homebrew or Linuxbrew Python, please see discussion at https://github.com/Homebrew/homebrew-core/issues/76621\n",
      "\n",
      "\n"
     ]
    }
   ],
   "source": [
    "!pip install sympy"
   ]
  },
  {
   "cell_type": "code",
   "execution_count": 8,
   "id": "31ee985b-4f6f-4109-955d-dedf9d3ffb35",
   "metadata": {},
   "outputs": [
    {
     "name": "stdout",
     "output_type": "stream",
     "text": [
      "Symbolic pkg v3.0.1: Traceback (most recent call last):\n",
      "  File \"<string>\", line 1, in <module>\n",
      "ModuleNotFoundError: No module named 'sympy'\n",
      "error: Python cannot import SymPy: have you installed SymPy?\n",
      "    Try \"sympref diagnose\" for more information.\n",
      "error: called from\n",
      "    assert_have_python_and_sympy at line 135 column 7\n",
      "    python_ipc_popen2 at line 85 column 5\n",
      "    python_ipc_driver at line 62 column 15\n",
      "    pycall_sympy__ at line 164 column 11\n",
      "    valid_sym_assumptions at line 38 column 10\n",
      "    assumptions at line 82 column 7\n",
      "    syms at line 140 column 13\n",
      "\u001b[?2004h"
     ]
    }
   ],
   "source": [
    "syms x;"
   ]
  },
  {
   "cell_type": "code",
   "execution_count": 9,
   "id": "5455398f-b984-4958-82c1-85de6a4db5bb",
   "metadata": {},
   "outputs": [
    {
     "name": "stdout",
     "output_type": "stream",
     "text": [
      "\u001b[?2004l\n",
      "Symbolic package diagnostics\n",
      "============================\n",
      "\n",
      "Python and SymPy are needed for most features of the Symbolic package.\n",
      "\n",
      "The Python interpreter is currently: \"python3\".\n",
      "\n",
      "Computers may have more than one Python interpreter installed.  If you\n",
      "need to, you can select a different one using the PYTHON environment\n",
      "variable (see \"help sympref\").  For example, to use Python 3, try\n",
      "    setenv PYTHON python3\n",
      "    sympref reset\n",
      "\n",
      "Attempting to run python3 -c \"print(\\\"Python says hello\\\")\"\n",
      "\n",
      "status = 0\n",
      "output = Python says hello\n",
      "\n",
      "Good, Python ran correctly.\n",
      "\n",
      "\n",
      "Python version\n",
      "--------------\n",
      "\n",
      "Let's check what version of Python we are calling...\n",
      "\n",
      "Attempting to run python3 -c \"import sys; print(sys.version)\"\n",
      "status = 0\n",
      "output = 3.10.6 (main, Aug 11 2022, 13:49:25) [Clang 13.1.6 (clang-1316.0.21.2.5)]\n",
      "\n",
      "Running python3 -c \"import sys; print(sys.executable)\"\n",
      "output = /usr/local/opt/python@3.10/bin/python3.10\n",
      "\n",
      "Checking if python3 is running in a Cygwin-like POSIX environment... no\n",
      "\n",
      "\n",
      "System info\n",
      "-----------\n",
      "\n",
      "Platform: x86_64-apple-darwin21.5.0\n",
      "Array Maximum Size: 9223372036854775807\n",
      "Endianness: L\n",
      "Architecture: darwin21.5.0-x86_64\n",
      "----------------------------------------------------------------------\n",
      "GNU Octave Version: 7.2.0 (hg id: 6c1e310b2230)\n",
      "GNU Octave License: GNU General Public License\n",
      "Operating System: Darwin 21.6.0 Darwin Kernel Version 21.6.0: Wed Aug 10 14:25:27 PDT 2022; root:xnu-8020.141.5~2/RELEASE_X86_64 x86_64\n",
      "----------------------------------------------------------------------\n",
      "Package Name  | Version | Installation directory\n",
      "--------------+---------+-----------------------\n",
      "    symbolic *|   3.0.1 | .../share/octave/api-v57/packages/symbolic-3.0.1\n",
      "\n",
      "\n",
      "SymPy Python Library\n",
      "--------------------\n",
      "\n",
      "SymPy is a Python library used by Symbolic for almost all features.\n",
      "\n",
      "Attempting to run python3 -c \"import sympy; print(sympy.__version__)\"\n",
      "\n",
      "Traceback (most recent call last):\n",
      "  File \"<string>\", line 1, in <module>\n",
      "ModuleNotFoundError: No module named 'sympy'\n",
      "status = 1\n",
      "output = \n",
      "\n",
      "Unfortunately status was non-zero: probably Python cannot import sympy.\n",
      "\n",
      "  * Is there an error message above?\n",
      "\n",
      "  * Do you have SymPy installed?  If not, please try to install it and\n",
      "    try again.\n",
      "\n",
      "  * If you do have SymPy installed, maybe it's installed for a different\n",
      "    Python interpreter than the one we found?  Please try \"setenv\" as\n",
      "    described above to change your python interpreter.\n",
      "\u001b[?2004h"
     ]
    }
   ],
   "source": [
    "sympref diagnose"
   ]
  },
  {
   "cell_type": "code",
   "execution_count": null,
   "id": "5bd2a346-f8a5-454c-8e5d-1ae7e5169bd6",
   "metadata": {},
   "outputs": [],
   "source": []
  }
 ],
 "metadata": {
  "kernelspec": {
   "display_name": "Octave",
   "language": "octave",
   "name": "octave"
  },
  "language_info": {
   "file_extension": ".m",
   "help_links": [
    {
     "text": "GNU Octave",
     "url": "https://www.gnu.org/software/octave/support.html"
    },
    {
     "text": "Octave Kernel",
     "url": "https://github.com/Calysto/octave_kernel"
    },
    {
     "text": "MetaKernel Magics",
     "url": "https://metakernel.readthedocs.io/en/latest/source/README.html"
    }
   ],
   "mimetype": "text/x-octave",
   "name": "octave",
   "version": "\u001b[?2004h"
  }
 },
 "nbformat": 4,
 "nbformat_minor": 5
}
