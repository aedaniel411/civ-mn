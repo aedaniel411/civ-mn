{
 "cells": [
  {
   "cell_type": "markdown",
   "id": "2dcf197d-b986-4f50-a4ac-e1c2f5ab0e61",
   "metadata": {},
   "source": [
    "# Interpolación de Lagrange\n",
    "$$ f_n(x)=\\sum_{i=0}^{n}L_i(x)f(x_i) \\\\\n",
    "L_i(x)=\\prod_{j=0;j\\neq i}^n \\frac{x-x_j}{x_i-x_j}$$"
   ]
  },
  {
   "cell_type": "code",
   "execution_count": 1,
   "id": "a066b58e-c8b3-4d91-b637-f9462f6d7973",
   "metadata": {},
   "outputs": [],
   "source": [
    "xo = [1 4 5 6];\n",
    "yo = [0 1.3862 1.6094 1.7917];"
   ]
  },
  {
   "cell_type": "code",
   "execution_count": 5,
   "id": "5996058e-da77-4ddc-8a73-3419886f742c",
   "metadata": {},
   "outputs": [
    {
     "name": "stdout",
     "output_type": "stream",
     "text": [
      "n = 4\n"
     ]
    }
   ],
   "source": [
    "n = length(xo)"
   ]
  },
  {
   "cell_type": "code",
   "execution_count": 6,
   "id": "5ed0a715-eaf3-4f42-a557-d73c89005ecf",
   "metadata": {},
   "outputs": [],
   "source": [
    "x = 2;"
   ]
  },
  {
   "cell_type": "code",
   "execution_count": 9,
   "id": "70880eba-6594-43db-b324-9c14d9af5ab2",
   "metadata": {},
   "outputs": [],
   "source": [
    "suma = 0;\n",
    "for i = 1 : n\n",
    "    l = 1;\n",
    "    for j = 1 : n\n",
    "        if i ~= j\n",
    "            l = l * ((x - xo(j)) / (xo(i) - xo(j)));\n",
    "        end\n",
    "    end\n",
    "    suma = suma + (l * yo(i));\n",
    "end"
   ]
  },
  {
   "cell_type": "code",
   "execution_count": 12,
   "id": "0d4f629b-d9ab-4740-a4c2-0e16a9cecdd8",
   "metadata": {},
   "outputs": [
    {
     "name": "stdout",
     "output_type": "stream",
     "text": [
      "yy3 = 0.6289\n"
     ]
    }
   ],
   "source": [
    "b0 = 0;\n",
    "b1 = 0.4621;\n",
    "b2 = -0.0597;\n",
    "b3 = 0.0079;\n",
    "yy3=b0 + b1 .* (x - xo(1)) + b2 .* (x - xo(1)) .* (x - xo(2)) + b3 .* (x - xo(1)) .* (x - xo(2)) .* (x - xo(3))"
   ]
  },
  {
   "cell_type": "code",
   "execution_count": 10,
   "id": "3fde3c89-991b-4f72-a5ab-047d3a22d4f3",
   "metadata": {},
   "outputs": [
    {
     "name": "stdout",
     "output_type": "stream",
     "text": [
      "suma = 0.6286\n"
     ]
    }
   ],
   "source": [
    "suma"
   ]
  },
  {
   "cell_type": "code",
   "execution_count": 20,
   "id": "760532fd-beb6-4c03-bea8-d4442d860f2a",
   "metadata": {},
   "outputs": [],
   "source": [
    "graphics_toolkit (\"gnuplot\")"
   ]
  },
  {
   "cell_type": "code",
   "execution_count": 17,
   "id": "489c42cb-6a4f-4ae7-9b06-5982bc4798a3",
   "metadata": {},
   "outputs": [],
   "source": [
    "x = linspace (1,6,100);"
   ]
  },
  {
   "cell_type": "code",
   "execution_count": 18,
   "id": "d3da21ca-f144-40af-91f3-de8a838b35d6",
   "metadata": {},
   "outputs": [],
   "source": [
    "y1=b0 + b1 .* (x - xo(1)) + b2 .* (x - xo(1)) .* (x - xo(2)) + b3 .* (x - xo(1)) .* (x - xo(2)) .* (x - xo(3));"
   ]
  },
  {
   "cell_type": "code",
   "execution_count": 21,
   "id": "76bccc9a-a625-4fb0-ae9d-c2c7f6bce62c",
   "metadata": {},
   "outputs": [
    {
     "data": {
      "image/png": "[encoded data removed]",
      "text/plain": [
       "<IPython.core.display.Image object>"
      ]
     },
     "metadata": {},
     "output_type": "display_data"
    }
   ],
   "source": [
    "plot (x, y1)"
   ]
  },
  {
   "cell_type": "code",
   "execution_count": 34,
   "id": "fb5a05ec-dc4b-4bc1-9b67-f62e026f59d1",
   "metadata": {},
   "outputs": [],
   "source": [
    "function xr = lagr(x,xo,yo)\n",
    "    n = length(xo);\n",
    "    suma = 0;\n",
    "    for i = 1 : n\n",
    "        l = 1;\n",
    "        for j = 1 : n\n",
    "            if i ~= j\n",
    "                l = l * ((x - xo(j)) / (xo(i) - xo(j)));\n",
    "            end\n",
    "        end\n",
    "        suma = suma + (l * yo(i));\n",
    "    end\n",
    "    xr = suma;\n",
    "end"
   ]
  },
  {
   "cell_type": "code",
   "execution_count": 35,
   "id": "d157685c-0a0c-42c4-a74d-1417a20d6dae",
   "metadata": {},
   "outputs": [
    {
     "name": "stdout",
     "output_type": "stream",
     "text": [
      "error: operator *: nonconformant arguments (op1 is 1x100, op2 is 1x100)\n",
      "error: called from\n",
      "    lagr at line 8 column 19\n"
     ]
    }
   ],
   "source": [
    "y2 = lagr(x,xo,yo);"
   ]
  },
  {
   "cell_type": "code",
   "execution_count": 36,
   "id": "09bf19c6-5887-4864-a8d6-adc3fa3141f0",
   "metadata": {},
   "outputs": [
    {
     "name": "stdout",
     "output_type": "stream",
     "text": [
      "m = 100\n"
     ]
    }
   ],
   "source": [
    "m = length (x);\n",
    "y2 = x;\n",
    "for k = 1: m\n",
    "    y2(k) = lagr(x(k),xo,yo);\n",
    "end"
   ]
  },
  {
   "cell_type": "code",
   "execution_count": 37,
   "id": "eb90c584-2c83-45fa-8eeb-40f84e6f888c",
   "metadata": {},
   "outputs": [
    {
     "data": {
      "image/png": "[encoded data removed]",
      "text/plain": [
       "<IPython.core.display.Image object>"
      ]
     },
     "metadata": {},
     "output_type": "display_data"
    }
   ],
   "source": [
    "plot (x, y1)\n",
    "hold on\n",
    "plot (x, y2)"
   ]
  },
  {
   "cell_type": "code",
   "execution_count": null,
   "id": "47857438-acb3-4c06-ba03-69e2ea870bf0",
   "metadata": {},
   "outputs": [],
   "source": []
  }
 ],
 "metadata": {
  "kernelspec": {
   "display_name": "Octave",
   "language": "octave",
   "name": "octave"
  },
  "language_info": {
   "file_extension": ".m",
   "help_links": [
    {
     "text": "GNU Octave",
     "url": "https://www.gnu.org/software/octave/support.html"
    },
    {
     "text": "Octave Kernel",
     "url": "https://github.com/Calysto/octave_kernel"
    },
    {
     "text": "MetaKernel Magics",
     "url": "https://metakernel.readthedocs.io/en/latest/source/README.html"
    }
   ],
   "mimetype": "text/x-octave",
   "name": "octave",
   "version": "6.4.0"
  }
 },
 "nbformat": 4,
 "nbformat_minor": 5
}
