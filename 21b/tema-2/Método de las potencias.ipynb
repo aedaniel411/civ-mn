{
 "cells": [
  {
   "cell_type": "markdown",
   "id": "0a8609d8-90ea-4124-9e33-f2309943143f",
   "metadata": {},
   "source": [
    "# Métodos iterativos para determinar valores característicos\n",
    "Estos métodos son utilizados comúnmente cuando se desea conocer el valor característico de mayor o menor valor absoluto de una matriz. Una ventaja que  presentan estos métodos es que proporcionan simultáneamente el correspondiente vector característico asosiado."
   ]
  },
  {
   "cell_type": "markdown",
   "id": "2e326a76-b51f-40d2-8828-7efd7c72a3db",
   "metadata": {},
   "source": [
    "## Método de las potencias\n",
    "El procedimiento consiste en utilizar la ecuación:\n",
    "\n",
    "$$ \\text{A}\\bar{x}=\\lambda\\bar{x} $$\n",
    "\n",
    "en forma recursiva, tomando un vector inicial $\\bar{x}^{(0)} \\neq 0$ de la forma\n",
    "\n",
    "$$ \\bar{x}^{(0)} = \\begin{bmatrix}\n",
    "x_1 \\\\\n",
    "x_2 \\\\\n",
    "\\vdots \\\\\n",
    "x_n\n",
    "\\end{bmatrix} $$\n",
    "\n",
    "Al sustituir este vector en el primer miembro de la ecuación $ \\text{A}\\bar{x}=\\lambda\\bar{x} $ y efectuar la multiplicación indicada se obtiene una primera aproximación en el segundo miembro; esto es:\n",
    "\n",
    "$$ \\text{A}\\bar{x}^{(0)}=\\lambda^{(1)}\\bar{x}^{(1)} $$\n",
    "\n",
    "donde\n",
    "\n",
    "$$ \\lambda^{(1)}\\bar{x}^{(1)} = \\lambda^{(1)}\\begin{bmatrix}\n",
    "x_1 \\\\\n",
    "x_2 \\\\\n",
    "\\vdots \\\\\n",
    "x_n\n",
    "\\end{bmatrix} $$\n",
    "\n",
    "es el vector del producto realizado.\n",
    "\n",
    "El siguiente paso consiste en seleccionar el mayor elemento, en valor absoluto, y de este vector y asignarlo como una aproximación de $\\lambda^{(1)}$. **La asignación se debe efectuar con su signo correspondiente, aun cuando se haya seleccionado en valor absoluto.**\n",
    "\n",
    "Posteriormente se *normaliza*  el vector obtenido, lo cual consiste en dividirlo entre $\\lambda^{(1)}$; de esta manera se obtiene la primera aproximación al vector característico $\\bar{x}^{(1)}$ se tiene que\n",
    "$$ \\text{A}\\bar{x}^{(1)}=\\lambda^{(2)}\\bar{x}^{(2)} $$\n",
    "\n",
    "Por iteraciones sucesivas se obtiene:\n",
    "$$ \\text{A}\\bar{x}^{(2)}=\\lambda^{(3)}\\bar{x}^{(3)}\\\\ $$ \\text{A}\\bar{x}^{(3)}=\\lambda^{(4)}\\bar{x}^{(4)} \\\\ \\vdots$$\n",
    "\n",
    "En general\n",
    "$$ \\text{A}\\bar{x}^{(k-1)}=\\lambda^{(k)}\\bar{x}^{(k)} \\\\\n",
    "k=1,2,3,4,...$$\n",
    "\n",
    "Este proceso se repetirá hasta que la diferencia, en valor absoluto, entre los valores característicos obtenidos en dos interaciones sucesivas sea menor que una toleracia preestablecida.\n",
    "\n",
    "Cabe aclarar que el vector inicial $\\bar{x}^{(0)}$ puede ser cualquiera diferente de cero; por ejemplo\n",
    "$$ \\bar{x}^{(0)} = \\begin{bmatrix}\n",
    "1 \\\\\n",
    "0 \\\\\n",
    "\\vdots \\\\\n",
    "0\n",
    "\\end{bmatrix} $$\n",
    "o bien\n",
    "$$ \\bar{x}^{(0)} = \\begin{bmatrix}\n",
    "1 \\\\\n",
    "1 \\\\\n",
    "\\vdots \\\\\n",
    "1\n",
    "\\end{bmatrix} $$"
   ]
  },
  {
   "cell_type": "markdown",
   "id": "3e7faecb-b61a-4c0b-857c-f028ae84f95a",
   "metadata": {},
   "source": [
    "### Ejemplo\n",
    "Dado el sistema:\n",
    "$$\n",
    "    \\left \\{\n",
    "        \\begin{array}{rrcr}\n",
    "            2x_1  & +4x_2 & = & 0 \\\\\n",
    "             x_1  & +3x_2 & = & 0 \\\\\n",
    "        \\end{array} \n",
    "    \\right .\n",
    "$$\n",
    "obtener de la matriz de coeficientes, el mayor valor característico y su correspondiente vector por el método de las potencias, utilizando como vector inicial \n",
    "$$ \\bar{x}^{(0)} = \\begin{bmatrix}\n",
    "1 \\\\\n",
    "1 \\\\\n",
    "\\end{bmatrix} $$"
   ]
  },
  {
   "cell_type": "markdown",
   "id": "36defa42-917f-444f-b66c-9ec08b7cc31f",
   "metadata": {},
   "source": [
    "#### Solución\n",
    "El sistema expresado en la forma de la ecuación $ \\text{A}\\bar{x}=\\lambda\\bar{x} $ queda:\n",
    "\n",
    "$$\\begin{bmatrix}\n",
    "2 & 4 \\\\\n",
    "1 & 3 \\\\\n",
    "\\end{bmatrix}\n",
    "\\begin{bmatrix}\n",
    "x_1 \\\\\n",
    "x_2 \\\\\n",
    "\\end{bmatrix}\n",
    "=\n",
    "\\lambda \\begin{bmatrix}\n",
    "x_1 \\\\\n",
    "x_2 \\\\\n",
    "\\end{bmatrix}$$\n",
    "\n",
    "Se utiliza la ecuación $\\text{A}\\bar{x}^{(k-1)}=\\lambda^{(k)}\\bar{x}^{(k)}$ para k=1:\n",
    "\n",
    "$$ \\text{A}\\bar{x}^{(0)}=\\lambda^{(1)}\\bar{x}^{(1)}$$"
   ]
  },
  {
   "cell_type": "code",
   "execution_count": 2,
   "id": "9c7330ad-202e-4a3d-b308-e57cf39694b3",
   "metadata": {},
   "outputs": [
    {
     "name": "stdout",
     "output_type": "stream",
     "text": [
      "A =\n",
      "\n",
      "   2   4\n",
      "   1   3\n",
      "\n"
     ]
    }
   ],
   "source": [
    "A = [2 4 ; 1 3]"
   ]
  },
  {
   "cell_type": "code",
   "execution_count": 3,
   "id": "6842f244-fe14-4217-a39f-11188a35f43d",
   "metadata": {},
   "outputs": [
    {
     "name": "stdout",
     "output_type": "stream",
     "text": [
      "x0 =\n",
      "\n",
      "   1\n",
      "   1\n",
      "\n"
     ]
    }
   ],
   "source": [
    "x0 = [ 1 ; 1]"
   ]
  },
  {
   "cell_type": "code",
   "execution_count": 4,
   "id": "9e286ec7-89e7-4ce4-9501-f9d0bd600972",
   "metadata": {},
   "outputs": [
    {
     "name": "stdout",
     "output_type": "stream",
     "text": [
      "x1 =\n",
      "\n",
      "   6\n",
      "   4\n",
      "\n"
     ]
    }
   ],
   "source": [
    "x1 = A * x0"
   ]
  },
  {
   "cell_type": "markdown",
   "id": "bdee3d0e-49c7-4351-bb4e-a4b2aa22809f",
   "metadata": {},
   "source": [
    "Se sustituyen valores:\n",
    "\n",
    "$$\\begin{bmatrix}\n",
    "2 & 4 \\\\\n",
    "1 & 3 \\\\\n",
    "\\end{bmatrix}\n",
    "\\begin{bmatrix}\n",
    "1 \\\\\n",
    "1 \\\\\n",
    "\\end{bmatrix}\n",
    "=\n",
    "\\begin{bmatrix}\n",
    "6 \\\\\n",
    "4 \\\\\n",
    "\\end{bmatrix}$$\n",
    "\n",
    "Para normalizar se factoriza en el segundo miembro:"
   ]
  },
  {
   "cell_type": "code",
   "execution_count": 5,
   "id": "e8eb81a3-f28c-44bc-9f96-9664cf42584e",
   "metadata": {},
   "outputs": [
    {
     "name": "stdout",
     "output_type": "stream",
     "text": [
      "x1 =\n",
      "\n",
      "   1.0000\n",
      "   0.6667\n",
      "\n"
     ]
    }
   ],
   "source": [
    "x1 = x1 ./ 6"
   ]
  },
  {
   "cell_type": "markdown",
   "id": "7ccf4f83-70aa-4d47-9ec2-afd8847bd8af",
   "metadata": {},
   "source": [
    "$$\\begin{bmatrix}\n",
    "2 & 4 \\\\\n",
    "1 & 3 \\\\\n",
    "\\end{bmatrix}\n",
    "\\begin{bmatrix}\n",
    "1 \\\\\n",
    "1 \\\\\n",
    "\\end{bmatrix}\n",
    "= 6\n",
    "\\begin{bmatrix}\n",
    "1.0000 \\\\\n",
    "0.6667 \\\\\n",
    "\\end{bmatrix}$$"
   ]
  },
  {
   "cell_type": "markdown",
   "id": "d00a06c7-d376-4fa5-8ccf-bda544438974",
   "metadata": {},
   "source": [
    "Por lo tanto:\n",
    "$$\\lambda^{(1)}=6 ; \\bar{x}=\\begin{bmatrix}\n",
    "1.0000 \\\\\n",
    "0.6667 \\end{bmatrix}$$"
   ]
  },
  {
   "cell_type": "markdown",
   "id": "1cdc7817-7677-4706-bf23-b8565c013ea2",
   "metadata": {},
   "source": [
    "Para $k=2$ se utiliza la misma ecuación:"
   ]
  },
  {
   "cell_type": "code",
   "execution_count": 6,
   "id": "63d7ba1e-e063-48a6-bf61-9e67d4c67b03",
   "metadata": {},
   "outputs": [
    {
     "name": "stdout",
     "output_type": "stream",
     "text": [
      "x2 =\n",
      "\n",
      "   4.6667\n",
      "   3.0000\n",
      "\n"
     ]
    }
   ],
   "source": [
    "x2 = A * x1"
   ]
  },
  {
   "cell_type": "markdown",
   "id": "e30b94da-6eda-4360-a51d-1a23ce753578",
   "metadata": {},
   "source": [
    "$$ \\begin{bmatrix}\n",
    "2 & 4 \\\\\n",
    "1 & 3 \\\\\n",
    "\\end{bmatrix}\n",
    "\\begin{bmatrix}\n",
    "1.0000 \\\\\n",
    "0.6667 \\\\\n",
    "\\end{bmatrix}\n",
    "=\n",
    "\\begin{bmatrix}\n",
    "4.6667 \\\\\n",
    "3.0000 \\\\\n",
    "\\end{bmatrix}\n",
    "$$\n",
    "Se normaliza nuevamente:"
   ]
  },
  {
   "cell_type": "code",
   "execution_count": 7,
   "id": "19ebb5c4-eed8-4f80-bab2-3063aac2ea19",
   "metadata": {},
   "outputs": [
    {
     "name": "stdout",
     "output_type": "stream",
     "text": [
      "x2 =\n",
      "\n",
      "   1.0000\n",
      "   0.6429\n",
      "\n"
     ]
    }
   ],
   "source": [
    "x2 = x2 ./ 4.6667"
   ]
  },
  {
   "cell_type": "markdown",
   "id": "62671584-a97b-4d22-b682-ec782da32e70",
   "metadata": {},
   "source": [
    "$$ \\begin{bmatrix}\n",
    "2 & 4 \\\\\n",
    "1 & 3 \\\\\n",
    "\\end{bmatrix}\n",
    "\\begin{bmatrix}\n",
    "1.0000 \\\\\n",
    "0.6667 \\\\\n",
    "\\end{bmatrix}\n",
    "= 4.6667\n",
    "\\begin{bmatrix}\n",
    "1.0000 \\\\\n",
    "0.6429 \\\\\n",
    "\\end{bmatrix}\n",
    "$$\n",
    "por lo tanto \n",
    "$$ \\lambda^{(2)}=4.6667;\\bar{x}^{(2)} = \\begin{bmatrix}\n",
    "1.0000 \\\\\n",
    "0.6429 \\\\\n",
    "\\end{bmatrix}\n",
    "$$"
   ]
  },
  {
   "cell_type": "markdown",
   "id": "2ec3e21c-3282-4bb9-8d8b-bbecb527269d",
   "metadata": {},
   "source": [
    "para $k=3$ :"
   ]
  },
  {
   "cell_type": "code",
   "execution_count": 9,
   "id": "219642ee-8aec-4d34-aa82-b4cd4081d8b5",
   "metadata": {},
   "outputs": [
    {
     "name": "stdout",
     "output_type": "stream",
     "text": [
      "x3 =\n",
      "\n",
      "   4.5714\n",
      "   2.9286\n",
      "\n"
     ]
    }
   ],
   "source": [
    "x3 = A * x2"
   ]
  },
  {
   "cell_type": "code",
   "execution_count": 10,
   "id": "9dd9150b-c08b-47b7-8c27-6f69cb0fdbf0",
   "metadata": {},
   "outputs": [
    {
     "name": "stdout",
     "output_type": "stream",
     "text": [
      "x3 =\n",
      "\n",
      "   1.0000\n",
      "   0.6406\n",
      "\n"
     ]
    }
   ],
   "source": [
    "x3 = x3 ./ 4.5714"
   ]
  },
  {
   "cell_type": "markdown",
   "id": "fd2b75d1-1f0f-4dff-bf58-0a734b2f6099",
   "metadata": {},
   "source": [
    "para $k=4$ :"
   ]
  },
  {
   "cell_type": "code",
   "execution_count": 11,
   "id": "b062e7ba-ea9b-49be-a9c1-5986c7feadc1",
   "metadata": {},
   "outputs": [
    {
     "name": "stdout",
     "output_type": "stream",
     "text": [
      "x4 =\n",
      "\n",
      "   4.5625\n",
      "   2.9219\n",
      "\n"
     ]
    }
   ],
   "source": [
    "x4 = A * x3"
   ]
  },
  {
   "cell_type": "code",
   "execution_count": 12,
   "id": "dd0c7675-c3bd-46b9-ae5e-c8d8d887b4e8",
   "metadata": {},
   "outputs": [
    {
     "name": "stdout",
     "output_type": "stream",
     "text": [
      "x4 =\n",
      "\n",
      "   1.0000\n",
      "   0.6404\n",
      "\n"
     ]
    }
   ],
   "source": [
    "x4 = x4 ./ 4.5625"
   ]
  },
  {
   "cell_type": "markdown",
   "id": "358d0438-23e1-4208-8953-af1098cf0340",
   "metadata": {},
   "source": [
    "para $k=5$ :"
   ]
  },
  {
   "cell_type": "code",
   "execution_count": 13,
   "id": "d661b902-3359-407a-b444-957691984903",
   "metadata": {},
   "outputs": [
    {
     "name": "stdout",
     "output_type": "stream",
     "text": [
      "x5 =\n",
      "\n",
      "   4.5616\n",
      "   2.9212\n",
      "\n"
     ]
    }
   ],
   "source": [
    "x5 = A * x4"
   ]
  },
  {
   "cell_type": "code",
   "execution_count": 14,
   "id": "19946dcb-dd9f-4af8-a716-19c4c987b6ab",
   "metadata": {},
   "outputs": [
    {
     "name": "stdout",
     "output_type": "stream",
     "text": [
      "x5 =\n",
      "\n",
      "   1.0000\n",
      "   0.6404\n",
      "\n"
     ]
    }
   ],
   "source": [
    "x5 = x5 ./ 4.5616"
   ]
  },
  {
   "cell_type": "markdown",
   "id": "223e362a-b229-4a13-a7ce-ee4ec305f31d",
   "metadata": {},
   "source": [
    "para $k=6$ :"
   ]
  },
  {
   "cell_type": "code",
   "execution_count": 15,
   "id": "897cde19-58c0-4e36-a143-e4231a706573",
   "metadata": {},
   "outputs": [
    {
     "name": "stdout",
     "output_type": "stream",
     "text": [
      "x6 =\n",
      "\n",
      "   4.5616\n",
      "   2.9212\n",
      "\n"
     ]
    }
   ],
   "source": [
    "x6 = A * x5"
   ]
  },
  {
   "cell_type": "code",
   "execution_count": 16,
   "id": "9dff15bc-7ab7-438d-aa82-594341d4e197",
   "metadata": {},
   "outputs": [
    {
     "name": "stdout",
     "output_type": "stream",
     "text": [
      "x6 =\n",
      "\n",
      "   1.0000\n",
      "   0.6404\n",
      "\n"
     ]
    }
   ],
   "source": [
    "x6 = x6 ./ 4.5616"
   ]
  },
  {
   "cell_type": "markdown",
   "id": "fab5003a-b2ff-4029-8fe0-ea4ff8a93f41",
   "metadata": {},
   "source": [
    "$$ \\lambda^{(6)}=4.5616;\\bar{x}^{(6)} = \\begin{bmatrix}\n",
    "1.0000 \\\\\n",
    "0.6404 \\\\\n",
    "\\end{bmatrix}\n",
    "$$\n",
    "\n",
    "Por lo tanto, el mayor valor característico con cuatro cifras decimales exactas es:\n",
    "$$ \\lambda=4.5616 $$\n",
    "y su vector asociado:\n",
    "$$ \\bar{x} = \\begin{bmatrix}\n",
    "1.0000 \\\\\n",
    "0.6404 \\\\\n",
    "\\end{bmatrix}\n",
    "$$"
   ]
  },
  {
   "cell_type": "markdown",
   "id": "36481c97-90dc-4ca5-9a03-a971e4418d32",
   "metadata": {},
   "source": [
    "## Menor valor característico \n",
    "Para obtener el menor valor característico se premultiplica la ecuación $\\text{A}\\bar{x}=\\lambda\\bar{x}$ por la inversa de A:\n",
    "$$\\text{A}^{-1}\\text{A}\\bar{x}=\\text{A}^{-1}\\lambda\\bar{x} \\\\\n",
    "\\bar{x}=\\lambda\\text{A}^{-1}\\bar{x}$$\n",
    "se divide entre $\\lambda$ y se expresa en forma recursiva:\n",
    "$$ \\text{A}^{-1}\\bar{x}^{(k-1)}=(\\frac{1}{\\lambda^{(k)}})\\bar{x}^{(k)} \\\\\n",
    "k=1,2,3,4,...$$\n",
    "Esta ecuación es similar a la que se obtuvo para determinar el mayor valor característico, utilizando en esta ocasión la inversa de la matriz de coeficientes y el recíproco de $\\lambda$"
   ]
  },
  {
   "cell_type": "markdown",
   "id": "ab23bb82-fc15-41af-b617-9fa5edb88456",
   "metadata": {},
   "source": [
    "### continuando con el ejemplo\n",
    "Obtener el menor valor característico y su vector correspondiente."
   ]
  },
  {
   "cell_type": "code",
   "execution_count": 35,
   "id": "09ab9436-70d7-4749-bd44-0108a7eee364",
   "metadata": {},
   "outputs": [
    {
     "name": "stdout",
     "output_type": "stream",
     "text": [
      "A =\n",
      "\n",
      "   2   4\n",
      "   1   3\n",
      "\n"
     ]
    }
   ],
   "source": [
    "A"
   ]
  },
  {
   "cell_type": "markdown",
   "id": "522d9a24-ee90-4e6b-9afe-21ee2ffff39d",
   "metadata": {},
   "source": [
    "Se obtiene su inversa"
   ]
  },
  {
   "cell_type": "code",
   "execution_count": 36,
   "id": "f13089ee-05e1-49aa-ad63-1b412ad1493c",
   "metadata": {},
   "outputs": [
    {
     "name": "stdout",
     "output_type": "stream",
     "text": [
      "A1 =\n",
      "\n",
      "   1.5000  -2.0000\n",
      "  -0.5000   1.0000\n",
      "\n"
     ]
    }
   ],
   "source": [
    "A1 = inv(A)"
   ]
  },
  {
   "cell_type": "code",
   "execution_count": 37,
   "id": "d7ad95b6-e8e4-45d8-897a-c2ab788e3310",
   "metadata": {},
   "outputs": [
    {
     "name": "stdout",
     "output_type": "stream",
     "text": [
      "x =\n",
      "\n",
      "   1\n",
      "   1\n",
      "\n"
     ]
    }
   ],
   "source": [
    "x = [ 1 ; 1]"
   ]
  },
  {
   "cell_type": "markdown",
   "id": "7f3b7789-4a91-4128-87a4-2e4f6de8c50c",
   "metadata": {},
   "source": [
    "Se utiliza la ecuacion $\\text{A}^{-1}\\bar{x}^{(k-1)}=(\\frac{1}{\\lambda^{(k)}})\\bar{x}^{(k)}$ para k = 1"
   ]
  },
  {
   "cell_type": "code",
   "execution_count": 38,
   "id": "1be855e6-76c1-42a6-a66a-8a3d41aa2f94",
   "metadata": {},
   "outputs": [
    {
     "name": "stdout",
     "output_type": "stream",
     "text": [
      "x1 =\n",
      "\n",
      "  -0.5000\n",
      "   0.5000\n",
      "\n"
     ]
    }
   ],
   "source": [
    "x1 = A1 * x"
   ]
  },
  {
   "cell_type": "code",
   "execution_count": 39,
   "id": "b63c2eb3-5d33-46df-9155-f85e5cb81559",
   "metadata": {},
   "outputs": [
    {
     "name": "stdout",
     "output_type": "stream",
     "text": [
      "x1 =\n",
      "\n",
      "   1\n",
      "  -1\n",
      "\n"
     ]
    }
   ],
   "source": [
    "x1 = x1 ./ (-0.5)"
   ]
  },
  {
   "cell_type": "code",
   "execution_count": 41,
   "id": "4001d582-5f0f-46fa-83d3-b0bf8bb7aeed",
   "metadata": {},
   "outputs": [
    {
     "name": "stdout",
     "output_type": "stream",
     "text": [
      "ans = -2\n"
     ]
    }
   ],
   "source": [
    "1 / (-0.5)"
   ]
  },
  {
   "cell_type": "code",
   "execution_count": 42,
   "id": "a9b10a72-f0da-4d0b-836c-a49bb77e1cb6",
   "metadata": {},
   "outputs": [
    {
     "name": "stdout",
     "output_type": "stream",
     "text": [
      "x2 =\n",
      "\n",
      "   3.5000\n",
      "  -1.5000\n",
      "\n"
     ]
    }
   ],
   "source": [
    "x2 = A1 * x1"
   ]
  },
  {
   "cell_type": "code",
   "execution_count": 43,
   "id": "977700a7-2293-4b14-a9eb-866bbcf6e172",
   "metadata": {},
   "outputs": [
    {
     "name": "stdout",
     "output_type": "stream",
     "text": [
      "x2 =\n",
      "\n",
      "   1.0000\n",
      "  -0.4286\n",
      "\n"
     ]
    }
   ],
   "source": [
    "x2 = x2 ./ 3.5"
   ]
  },
  {
   "cell_type": "code",
   "execution_count": 44,
   "id": "b26ade1b-d17f-4683-9e86-07e9937ef703",
   "metadata": {},
   "outputs": [
    {
     "name": "stdout",
     "output_type": "stream",
     "text": [
      "ans = 0.2857\n"
     ]
    }
   ],
   "source": [
    "1 / (3.5)"
   ]
  },
  {
   "cell_type": "code",
   "execution_count": 45,
   "id": "4b860e8c-80d7-41da-a4e0-7ba29d508627",
   "metadata": {},
   "outputs": [
    {
     "name": "stdout",
     "output_type": "stream",
     "text": [
      "x3 =\n",
      "\n",
      "   2.3571\n",
      "  -0.9286\n",
      "\n"
     ]
    }
   ],
   "source": [
    "x3 = A1 * x2"
   ]
  },
  {
   "cell_type": "code",
   "execution_count": 46,
   "id": "2e2a970d-e4aa-4942-9d11-689f43ddb800",
   "metadata": {},
   "outputs": [
    {
     "name": "stdout",
     "output_type": "stream",
     "text": [
      "x3 =\n",
      "\n",
      "   1.0000\n",
      "  -0.3939\n",
      "\n"
     ]
    }
   ],
   "source": [
    "x3 = x3 ./ 2.3571"
   ]
  },
  {
   "cell_type": "code",
   "execution_count": 47,
   "id": "4bc2eb90-5d3a-4c51-9298-adb1bf1173e6",
   "metadata": {},
   "outputs": [
    {
     "name": "stdout",
     "output_type": "stream",
     "text": [
      "x4 =\n",
      "\n",
      "   2.2879\n",
      "  -0.8940\n",
      "\n"
     ]
    }
   ],
   "source": [
    "x4 = A1 * x3"
   ]
  },
  {
   "cell_type": "code",
   "execution_count": 48,
   "id": "fb28e352-284c-4b08-be00-d7f55cf46010",
   "metadata": {},
   "outputs": [
    {
     "name": "stdout",
     "output_type": "stream",
     "text": [
      "x4 =\n",
      "\n",
      "   1.0000\n",
      "  -0.3907\n",
      "\n"
     ]
    }
   ],
   "source": [
    "x4 = x4 ./ 2.2879"
   ]
  },
  {
   "cell_type": "code",
   "execution_count": 49,
   "id": "43022b18-90df-4c3e-aa98-459909c76c1f",
   "metadata": {},
   "outputs": [
    {
     "name": "stdout",
     "output_type": "stream",
     "text": [
      "x5 =\n",
      "\n",
      "   2.2815\n",
      "  -0.8907\n",
      "\n"
     ]
    }
   ],
   "source": [
    "x5 = A1 * x4"
   ]
  },
  {
   "cell_type": "code",
   "execution_count": 50,
   "id": "bcb14b54-0613-4178-8765-17c3e47be084",
   "metadata": {},
   "outputs": [
    {
     "name": "stdout",
     "output_type": "stream",
     "text": [
      "x5 =\n",
      "\n",
      "   1.0000\n",
      "  -0.3904\n",
      "\n"
     ]
    }
   ],
   "source": [
    "x5 = x5 ./ 2.2815"
   ]
  },
  {
   "cell_type": "code",
   "execution_count": 51,
   "id": "8535e650-9b4c-4087-95bf-1664e4091109",
   "metadata": {},
   "outputs": [
    {
     "name": "stdout",
     "output_type": "stream",
     "text": [
      "x6 =\n",
      "\n",
      "   2.2808\n",
      "  -0.8904\n",
      "\n"
     ]
    }
   ],
   "source": [
    "x6 = A1 * x5"
   ]
  },
  {
   "cell_type": "code",
   "execution_count": 52,
   "id": "410c43c7-4644-4ee4-b479-a486a9ea8e10",
   "metadata": {},
   "outputs": [
    {
     "name": "stdout",
     "output_type": "stream",
     "text": [
      "x6 =\n",
      "\n",
      "   1.0000\n",
      "  -0.3904\n",
      "\n"
     ]
    }
   ],
   "source": [
    "x6 = x6 ./ 2.2808"
   ]
  },
  {
   "cell_type": "code",
   "execution_count": 53,
   "id": "2fd7d326-e7da-4d89-a16f-7a1c7a28e713",
   "metadata": {},
   "outputs": [
    {
     "name": "stdout",
     "output_type": "stream",
     "text": [
      "x7 =\n",
      "\n",
      "   2.2808\n",
      "  -0.8904\n",
      "\n"
     ]
    }
   ],
   "source": [
    "x7 = A1 * x6"
   ]
  },
  {
   "cell_type": "code",
   "execution_count": 54,
   "id": "a8dc112d-ca0c-4e81-ba73-9e1f7c3953d2",
   "metadata": {},
   "outputs": [
    {
     "name": "stdout",
     "output_type": "stream",
     "text": [
      "x7 =\n",
      "\n",
      "   1.0000\n",
      "  -0.3904\n",
      "\n"
     ]
    }
   ],
   "source": [
    "x7 = x7 ./ 2.2808"
   ]
  },
  {
   "cell_type": "code",
   "execution_count": 55,
   "id": "3c837541-ca15-4162-8dbb-ff92243c5ea8",
   "metadata": {},
   "outputs": [
    {
     "name": "stdout",
     "output_type": "stream",
     "text": [
      "ans = 0.4384\n"
     ]
    }
   ],
   "source": [
    "1/2.2808"
   ]
  },
  {
   "cell_type": "markdown",
   "id": "376ea0c6-270d-4e66-b37b-e0b0db560ddf",
   "metadata": {},
   "source": [
    "Por lo tanto, el menor valor característico, con cuatro cifras decimales exactas, es:\n",
    "$$\\lambda=\\frac{1}{2.2808}=0.4384$$\n",
    "y su vector asociado:\n",
    "$$\\bar{x}=\\begin{bmatrix}\n",
    "1.0000 \\\\\n",
    "-0.3904 \\end{bmatrix}$$"
   ]
  },
  {
   "cell_type": "code",
   "execution_count": null,
   "id": "bbba639c-6dcf-4e83-8f8a-466fad86bd80",
   "metadata": {},
   "outputs": [],
   "source": []
  }
 ],
 "metadata": {
  "kernelspec": {
   "display_name": "Octave",
   "language": "octave",
   "name": "octave"
  },
  "language_info": {
   "file_extension": ".m",
   "help_links": [
    {
     "text": "GNU Octave",
     "url": "https://www.gnu.org/software/octave/support.html"
    },
    {
     "text": "Octave Kernel",
     "url": "https://github.com/Calysto/octave_kernel"
    },
    {
     "text": "MetaKernel Magics",
     "url": "https://metakernel.readthedocs.io/en/latest/source/README.html"
    }
   ],
   "mimetype": "text/x-octave",
   "name": "octave",
   "version": "6.3.0"
  }
 },
 "nbformat": 4,
 "nbformat_minor": 5
}
