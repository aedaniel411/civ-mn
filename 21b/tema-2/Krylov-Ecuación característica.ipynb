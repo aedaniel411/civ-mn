{
 "cells": [
  {
   "cell_type": "code",
   "execution_count": 1,
   "id": "7a337c3b",
   "metadata": {},
   "outputs": [],
   "source": [
    "graphics_toolkit (\"gnuplot\");"
   ]
  },
  {
   "cell_type": "markdown",
   "id": "e50f2d2f",
   "metadata": {},
   "source": [
    "# Ecuación característica\n",
    "\n",
    "Existen algunos fenómenos físicos que al modelarse matemáticamente conducen a un *problema de valores caracteísticos*, el cual consiste en obtener soluciones diferentes de la trivial del sistema\n",
    "\n",
    "$$ \\text{A}\\bar{x}=\\lambda\\bar{x}$$\n",
    "\n",
    "donde $\\text{A}$ es una matriz de orden $n \\times n$, $x$ es el vector de incógnitas y $\\lambda$ un escalar. \n",
    "\n",
    "A simple vista, se observa que la solución trivial resuelve el sistema anterior para cualquier valor del escalar $\\lambda$; sin embargo, el problema consiste en determinar valores de $\\lambda$ tales que proporcionen una solución al sistema diferente a la trivial.\n",
    "\n",
    "Para lograr lo anterior, debe forzarse al sistema a que sea un *sistema compatible indeterminado*; de esta forma aceptará más de una solución, donde una es la trivial y cualquier otra la que resuelve el problema de valores y vectores característicos.\n",
    "\n",
    "Se reordena el sistema y la ecuación se transforma en \n",
    "\n",
    "$$ (\\text{A} - \\lambda \\mathbf{I}) \\bar{x} = 0$$\n",
    "\n",
    "Para garantizar que el sistema sea compatible indeterminado se debe igualar a cero el determinante de la matriz de coeficientes del sistema, entonces:\n",
    "\n",
    "$$ \\text{det}|\\text{A}-\\lambda \\mathbf{I}|=0$$\n",
    "\n",
    "de aquí que al realizar el determinante se obtiene un polinomio en $\\lambda$ de grado $n$, siendo $n$ el orden del sistema; así:\n",
    "\n",
    "$$ \\text{det}|\\text{A}-\\lambda \\mathbf{I}| = a_0\\lambda^{n} + a_1\\lambda^{n-1}+ \\dots + a_{n-1}\\lambda + a_n=0$$\n",
    "\n",
    "La ecuación anterior se conoce como **ecuación característica** y su solución proporciona valores de $\\lambda$ tales que con cada uno de ellos se obtiene una solucón diferente a la trivial del sistema.\n",
    "\n",
    "A los escalares $\\lambda$ que se obtienen al resolver la ecuación se les llama **valores característicos**; a la solución del sistema que se obtiene al sistituir un valor de $\\lambda$ se le llama **vector característico** asociado al valor característico $\\lambda$"
   ]
  },
  {
   "cell_type": "markdown",
   "id": "eb404701",
   "metadata": {},
   "source": [
    "## Método de Krylov\n",
    "\n",
    "Este método consiste en aplicar el teorema de Hamilton-Cayley que establece:\n",
    "\n",
    "*Toda matriz* $\\text{A}$ *verifica (satisface) su propia ecuación característica*\n",
    "\n",
    "Eso es:\n",
    "\n",
    "$$ P(\\text{A})=0$$\n",
    "\n",
    "Entonces, para una ecuación característica de la forma:\n",
    "\n",
    "$$\\lambda^{n}+b_{1}\\lambda^{n-1}+b_{2}\\lambda^{n-2}+\\dots+b_{n-1}\\lambda+b_n=0$$\n",
    "\n",
    "se obtiene, al utilizar el teorema de Hamilton-Cayley, que:\n",
    "\n",
    "$$\\mathbf{A}^{n}+b_{1}\\mathbf{A}^{n-1}+b_{2}\\mathbf{A}^{n-2}+\\dots+b_{n-1}\\mathbf{A}+b_n\\mathbf{I}=0$$\n",
    "\n",
    "Los términos de la ecuación anterior son matrices de orden $n \\times n$ y la suma de ellas es otra matriz cuyos elemontos forman un sistema de ecuaciones algebraicas lineales con incógnitas $b_1,b_2,b_3, \\dots , b_n$ ; de estas ecuaciones se pueden obtener los coeficientes, sin embargo la obtención de las potencias de la matriz $\\mathbf{A}$ es un proceso laborioso.\n",
    "\n",
    "Para simplificar los cálculos se multiplica la ecuación por un vector cualquiera y, compatible con $\\mathbf{A}$ y diferente de cero:\n",
    "\n",
    "$$\\mathbf{A}^{n}\\bar{y}+b_{1}\\mathbf{A}^{n-1}\\bar{y}+b_{2}\\mathbf{A}^{n-2}\\bar{y}+\\dots+b_{n-1}\\mathbf{A}\\bar{y}+b_n\\bar{y}=0$$\n",
    "\n",
    "De esta manera, los términos de la ecuación son vectores en lugar de matrices y los productos de $\\mathbf{A}$ por el vector y se obtienen en forma recursiva mediante la ecuación:\n",
    "\n",
    "$$\\mathbf{A}^k\\bar{y}=\\mathbf{A}[\\mathbf{A}^{k-1}\\bar{y}]$$\n",
    "\n",
    "donde $\\mathbf{A}^{k-1}\\bar{y}$ es un vector de orden $n \\times 1$ \n",
    "\n",
    "Al sumar los vectores de la ecuación se obtiene un sistema de n-ecuaciones con n-incógnitas: $b_1,b_2,b_3,\\dots,b_n$; al resolverlo se obtienen los coeficientes de la ecuación característica.\n"
   ]
  },
  {
   "cell_type": "markdown",
   "id": "d68a8f16",
   "metadata": {},
   "source": [
    "### Ejemplo\n",
    "Obtener la ecuación característica de la siguiente matriz utilizando el método de Krylov.\n",
    "\n",
    "$$\n",
    "A = \\begin{bmatrix}\n",
    "3 & 1 & 2\\\\\n",
    "-2 & -1 & 0\\\\\n",
    "-1 & 0 & -3\n",
    "\\end{bmatrix}\n",
    "$$"
   ]
  },
  {
   "cell_type": "code",
   "execution_count": 3,
   "id": "f40811de",
   "metadata": {},
   "outputs": [
    {
     "name": "stdout",
     "output_type": "stream",
     "text": [
      "A =\n",
      "\n",
      "   3   1   2\n",
      "  -2  -1   0\n",
      "  -1   0  -3\n",
      "\n"
     ]
    }
   ],
   "source": [
    "% Matriz A en octave\n",
    "A = [3 1 2; -2 -1 0; -1 0 -3]"
   ]
  },
  {
   "cell_type": "markdown",
   "id": "f22dba8a",
   "metadata": {},
   "source": [
    "La ecuación característica esta dada por la expresión para $n=3$ que corresponde al orden del sistema, esto es:\n",
    "\n",
    "$$\\lambda^3+b_1\\lambda^2+b_2\\lambda+b_3=0$$"
   ]
  },
  {
   "cell_type": "markdown",
   "id": "c0ad4c1f",
   "metadata": {},
   "source": [
    "Se utiliza el vector:\n",
    "$$ \\bar{y}=\\begin{bmatrix}\n",
    "1 \\\\\n",
    "0\\\\\n",
    "0\n",
    "\\end{bmatrix}\n",
    "$$"
   ]
  },
  {
   "cell_type": "code",
   "execution_count": 4,
   "id": "9aac7a1d",
   "metadata": {},
   "outputs": [
    {
     "name": "stdout",
     "output_type": "stream",
     "text": [
      "y =\n",
      "\n",
      "   1\n",
      "   0\n",
      "   0\n",
      "\n"
     ]
    }
   ],
   "source": [
    "% Vector y en octave\n",
    "y = [1; 0; 0]"
   ]
  },
  {
   "cell_type": "markdown",
   "id": "31b85375",
   "metadata": {},
   "source": [
    "El sistema de ecuaciones para conocer los valores de $b_1,b_2,b_3$ se obtiene la expresión:\n",
    "$$\\mathbf{A}^{3}\\bar{y}+b_{1}\\mathbf{A}^{2}\\bar{y}+b_{2}\\mathbf{A}\\bar{y}+b_3\\bar{y}=0$$\n",
    "\n",
    "Los productos de $\\mathbf{A}$ por el vector y se obtienen en forma recursiva mediante la ecuación:\n",
    "\n",
    "$$\\mathbf{A}^k\\bar{y}=\\mathbf{A}[\\mathbf{A}^{k-1}\\bar{y}]$$"
   ]
  },
  {
   "cell_type": "code",
   "execution_count": 17,
   "id": "a177d022",
   "metadata": {},
   "outputs": [
    {
     "name": "stdout",
     "output_type": "stream",
     "text": [
      "A1y =\n",
      "\n",
      "   3\n",
      "  -2\n",
      "  -1\n",
      "\n"
     ]
    }
   ],
   "source": [
    "%Ay\n",
    "A1y = A*y"
   ]
  },
  {
   "cell_type": "code",
   "execution_count": 18,
   "id": "f1ab787e",
   "metadata": {},
   "outputs": [
    {
     "name": "stdout",
     "output_type": "stream",
     "text": [
      "A2y =\n",
      "\n",
      "   5\n",
      "  -4\n",
      "   0\n",
      "\n"
     ]
    }
   ],
   "source": [
    "A2y=A*A1y"
   ]
  },
  {
   "cell_type": "code",
   "execution_count": 19,
   "id": "4360a2a2",
   "metadata": {},
   "outputs": [
    {
     "name": "stdout",
     "output_type": "stream",
     "text": [
      "A3y =\n",
      "\n",
      "   11\n",
      "   -6\n",
      "   -5\n",
      "\n"
     ]
    }
   ],
   "source": [
    "A3y=A*A2y"
   ]
  },
  {
   "cell_type": "markdown",
   "id": "94a2a654",
   "metadata": {},
   "source": [
    "Se sustituyen en:\n",
    "$$\\mathbf{A}^{3}\\bar{y}+b_{1}\\mathbf{A}^{2}\\bar{y}+b_{2}\\mathbf{A}\\bar{y}+b_3\\bar{y}=0$$\n",
    "\n",
    "obteniendo:\n",
    "\n",
    "$$\\begin{bmatrix} 11\\\\-6\\\\-5\\end{bmatrix}+b_1\\begin{bmatrix} 5\\\\-4\\\\0\\end{bmatrix}+b_2\\begin{bmatrix} 3\\\\-2\\\\-1\\end{bmatrix}+b_3\\begin{bmatrix} 1\\\\0\\\\0\\end{bmatrix}=0$$\n",
    "\n",
    "Simplificando se llega al sistema:\n",
    "\n",
    "$$\n",
    "    \\left \\{\n",
    "        \\begin{array}{rrrcr}\n",
    "            5b_1  & +3b_2 & + b_3  & = &  -11 \\\\\n",
    "            -4b_1 & -2b_2 & + 0b_3 & = & 6 \\\\\n",
    "            0b_1  & -b_2  & + 0b_3 & = & 5 \\\\\n",
    "        \\end{array} \n",
    "    \\right .\n",
    "$$"
   ]
  },
  {
   "cell_type": "code",
   "execution_count": 22,
   "id": "e056eb7b",
   "metadata": {},
   "outputs": [
    {
     "name": "stdout",
     "output_type": "stream",
     "text": [
      "S =\n",
      "\n",
      "   5   3   1\n",
      "  -4  -2   0\n",
      "   0  -1   0\n",
      "\n"
     ]
    }
   ],
   "source": [
    "S= [5 3 1; -4 -2 0; 0 -1 0]"
   ]
  },
  {
   "cell_type": "code",
   "execution_count": 25,
   "id": "70c2044b",
   "metadata": {},
   "outputs": [
    {
     "name": "stdout",
     "output_type": "stream",
     "text": [
      "b =\n",
      "\n",
      "  -11\n",
      "    6\n",
      "    5\n",
      "\n"
     ]
    }
   ],
   "source": [
    "b = [-11; 6; 5]"
   ]
  },
  {
   "cell_type": "code",
   "execution_count": 26,
   "id": "24f152f8",
   "metadata": {},
   "outputs": [
    {
     "name": "stdout",
     "output_type": "stream",
     "text": [
      "ans =\n",
      "\n",
      "   1.0000        0        0  -5.0000\n",
      "        0   1.0000        0   4.0000\n",
      "        0        0   1.0000  -0.0000\n",
      "\n"
     ]
    }
   ],
   "source": [
    "rref ([A b])"
   ]
  },
  {
   "cell_type": "markdown",
   "id": "1c69b229",
   "metadata": {},
   "source": [
    "Por último, al sustituir en la ecuación:\n",
    "$$\\lambda^3+b_1\\lambda^2+b_2\\lambda+b_3=0$$\n",
    "se obtiene la **ecuación característica:**\n",
    "$$\\lambda^3-5\\lambda^2+4\\lambda=0$$"
   ]
  },
  {
   "cell_type": "code",
   "execution_count": null,
   "id": "3bfec6e5",
   "metadata": {},
   "outputs": [],
   "source": []
  }
 ],
 "metadata": {
  "kernelspec": {
   "display_name": "Octave",
   "language": "octave",
   "name": "octave"
  },
  "language_info": {
   "file_extension": ".m",
   "help_links": [
    {
     "text": "GNU Octave",
     "url": "https://www.gnu.org/software/octave/support.html"
    },
    {
     "text": "Octave Kernel",
     "url": "https://github.com/Calysto/octave_kernel"
    },
    {
     "text": "MetaKernel Magics",
     "url": "https://metakernel.readthedocs.io/en/latest/source/README.html"
    }
   ],
   "mimetype": "text/x-octave",
   "name": "octave",
   "version": "6.3.0"
  }
 },
 "nbformat": 4,
 "nbformat_minor": 5
}
