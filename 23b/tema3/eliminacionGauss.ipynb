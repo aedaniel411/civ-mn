{
 "cells": [
  {
   "cell_type": "code",
   "execution_count": null,
   "id": "83e9baa2-1250-4842-bd64-51650d5aec01",
   "metadata": {},
   "outputs": [],
   "source": [
    " A = [ 2 4 6 18 ; 4 5 6 24 ; 3 1 -2 4 ];"
   ]
  },
  {
   "cell_type": "code",
   "execution_count": null,
   "id": "79435cf1-4981-401f-bec3-18978cc3c92d",
   "metadata": {},
   "outputs": [],
   "source": [
    "A"
   ]
  },
  {
   "cell_type": "code",
   "execution_count": null,
   "id": "a214a4c7-04fc-4d92-ad69-dd59e61c8049",
   "metadata": {},
   "outputs": [],
   "source": [
    "A(1,:) = A(1,:) / 2 ;\n",
    "A"
   ]
  },
  {
   "cell_type": "code",
   "execution_count": null,
   "id": "95a5aef3-23a6-42f0-aae3-dcba59a2a81a",
   "metadata": {},
   "outputs": [],
   "source": [
    "A(2,:) = A(2,:) - 4 * A(1,:)\n",
    "A"
   ]
  },
  {
   "cell_type": "code",
   "execution_count": null,
   "id": "a9a2c2c9-56f5-4e82-ab7a-37712c05e049",
   "metadata": {},
   "outputs": [],
   "source": [
    "A(3,:) = A(3,:) - 3 * A(1,:)"
   ]
  },
  {
   "cell_type": "code",
   "execution_count": null,
   "id": "f2ae9eab-ee22-41a7-aab5-899090898390",
   "metadata": {},
   "outputs": [],
   "source": [
    "A(2,:) = A(2,:) / (-3)"
   ]
  },
  {
   "cell_type": "code",
   "execution_count": null,
   "id": "d721c077-1c1e-479f-b9d9-abc60cffec08",
   "metadata": {},
   "outputs": [],
   "source": [
    "A(1,:) = A(1,:) - A(2,:) * 2\n",
    "A(3,:) = A(3,:) + A(2,:) * 5"
   ]
  },
  {
   "cell_type": "code",
   "execution_count": null,
   "id": "8c510677-7fbb-467f-89a1-9898a9f92c7c",
   "metadata": {},
   "outputs": [],
   "source": [
    "A(1,:) = A(1,:) - A(3,:)"
   ]
  },
  {
   "cell_type": "code",
   "execution_count": null,
   "id": "e22b0f99-d7d2-4b9a-bc81-03f179fa70b3",
   "metadata": {},
   "outputs": [],
   "source": [
    "A(2,:) = A(2,:) + 2 * A(3,:)"
   ]
  },
  {
   "cell_type": "code",
   "execution_count": null,
   "id": "f7118667-9046-46d1-906a-d11c9a7bc3d5",
   "metadata": {},
   "outputs": [],
   "source": [
    "A(3,:) *= (-1)"
   ]
  },
  {
   "cell_type": "code",
   "execution_count": null,
   "id": "8dafdc25-68ef-4912-a6bc-7b1dbe80925d",
   "metadata": {},
   "outputs": [],
   "source": [
    " A = [ 2 4 6 18 ; 4 5 6 24 ; 3 1 -2 4 ];"
   ]
  },
  {
   "cell_type": "code",
   "execution_count": null,
   "id": "c4cc26f7-7410-4fbe-9e7d-cccca9965f0e",
   "metadata": {},
   "outputs": [],
   "source": [
    "A"
   ]
  },
  {
   "cell_type": "code",
   "execution_count": null,
   "id": "fb5ee7b7-8077-4c5b-b727-d2cb6a2fc011",
   "metadata": {},
   "outputs": [],
   "source": [
    "rref(A)"
   ]
  },
  {
   "cell_type": "code",
   "execution_count": null,
   "id": "22ade01e-64dd-4696-a2e0-ec3b8d7e90e7",
   "metadata": {},
   "outputs": [],
   "source": [
    "t"
   ]
  },
  {
   "cell_type": "code",
   "execution_count": null,
   "id": "56ac51f8",
   "metadata": {
    "vscode": {
     "languageId": "plaintext"
    }
   },
   "outputs": [],
   "source": []
  }
 ],
 "metadata": {
  "kernelspec": {
   "display_name": "Octave",
   "language": "octave",
   "name": "octave"
  },
  "language_info": {
   "file_extension": ".m",
   "help_links": [
    {
     "text": "GNU Octave",
     "url": "https://www.gnu.org/software/octave/support.html"
    },
    {
     "text": "Octave Kernel",
     "url": "https://github.com/Calysto/octave_kernel"
    },
    {
     "text": "MetaKernel Magics",
     "url": "https://metakernel.readthedocs.io/en/latest/source/README.html"
    }
   ],
   "mimetype": "text/x-octave",
   "name": "octave",
   "version": "8.3.0"
  }
 },
 "nbformat": 4,
 "nbformat_minor": 5
}
