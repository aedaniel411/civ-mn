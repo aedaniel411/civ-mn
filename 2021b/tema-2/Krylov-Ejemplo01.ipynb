{
 "cells": [
  {
   "cell_type": "markdown",
   "id": "654b3c93",
   "metadata": {},
   "source": [
    "# Ejemplo método de Krylov\n",
    "encontrar ecuación característica "
   ]
  },
  {
   "cell_type": "code",
   "execution_count": 1,
   "id": "a5d0b594",
   "metadata": {},
   "outputs": [
    {
     "name": "stdout",
     "output_type": "stream",
     "text": [
      "A =\r\n",
      "\r\n",
      "   1   2   3\r\n",
      "   1   3   4\r\n",
      "   2   1   5\r\n",
      "\r\n"
     ]
    }
   ],
   "source": [
    "A = [1 2 3 ;\n",
    "     1 3 4 ;\n",
    "     2 1 5];\n",
    "    \n",
    "A"
   ]
  },
  {
   "cell_type": "markdown",
   "id": "51a3e46c",
   "metadata": {},
   "source": [
    "La ecuación característica esta dada por la expresión para $n=3$ que corresponde al orden del sistema, esto es:\n",
    "\n",
    "$$\\lambda^3+b_1\\lambda^2+b_2\\lambda+b_3=0$$"
   ]
  },
  {
   "cell_type": "markdown",
   "id": "d2998a86",
   "metadata": {},
   "source": [
    "Se utiliza el vector:\n",
    "$$ \\bar{y}=\\begin{bmatrix}\n",
    "1 \\\\\n",
    "0\\\\\n",
    "0\n",
    "\\end{bmatrix}\n",
    "$$"
   ]
  },
  {
   "cell_type": "code",
   "execution_count": 2,
   "id": "4cc3cc9f",
   "metadata": {},
   "outputs": [
    {
     "name": "stdout",
     "output_type": "stream",
     "text": [
      "y =\r\n",
      "\r\n",
      "   1\r\n",
      "   0\r\n",
      "   0\r\n",
      "\r\n"
     ]
    }
   ],
   "source": [
    "% Vector y en octave\n",
    "y = [1; 0; 0]"
   ]
  },
  {
   "cell_type": "markdown",
   "id": "b36c9a28",
   "metadata": {},
   "source": [
    "El sistema de ecuaciones para conocer los valores de $b_1,b_2,b_3$ se obtiene la expresión:\n",
    "$$\\mathbf{A}^{3}\\bar{y}+b_{1}\\mathbf{A}^{2}\\bar{y}+b_{2}\\mathbf{A}\\bar{y}+b_3\\bar{y}=0$$\n",
    "\n",
    "Los productos de $\\mathbf{A}$ por el vector y se obtienen en forma recursiva mediante la ecuación:\n",
    "\n",
    "$$\\mathbf{A}^k\\bar{y}=\\mathbf{A}[\\mathbf{A}^{k-1}\\bar{y}]$$"
   ]
  },
  {
   "cell_type": "code",
   "execution_count": 3,
   "id": "e4ff3b3a",
   "metadata": {},
   "outputs": [
    {
     "name": "stdout",
     "output_type": "stream",
     "text": [
      "A1y =\r\n",
      "\r\n",
      "   1\r\n",
      "   1\r\n",
      "   2\r\n",
      "\r\n"
     ]
    }
   ],
   "source": [
    "%Ay\n",
    "A1y = A*y\n"
   ]
  },
  {
   "cell_type": "code",
   "execution_count": 6,
   "id": "65ff4100",
   "metadata": {},
   "outputs": [
    {
     "name": "stdout",
     "output_type": "stream",
     "text": [
      "A2y =\r\n",
      "\r\n",
      "    9\r\n",
      "   12\r\n",
      "   13\r\n",
      "\r\n"
     ]
    }
   ],
   "source": [
    "%Ay\n",
    "A2y = A * A1y"
   ]
  },
  {
   "cell_type": "code",
   "execution_count": 8,
   "id": "0c9043d8",
   "metadata": {},
   "outputs": [
    {
     "name": "stdout",
     "output_type": "stream",
     "text": [
      "A3y =\r\n",
      "\r\n",
      "   72\r\n",
      "   97\r\n",
      "   95\r\n",
      "\r\n"
     ]
    }
   ],
   "source": [
    "%Ay\n",
    "A3y = A * A2y"
   ]
  },
  {
   "cell_type": "markdown",
   "id": "ceaec954",
   "metadata": {},
   "source": [
    "$$\\mathbf{A}^{3}\\bar{y}+b_{1}\\mathbf{A}^{2}\\bar{y}+b_{2}\\mathbf{A}\\bar{y}+b_3\\bar{y}=0$$"
   ]
  },
  {
   "cell_type": "code",
   "execution_count": 9,
   "id": "2ba76544",
   "metadata": {},
   "outputs": [
    {
     "name": "stdout",
     "output_type": "stream",
     "text": [
      "sistema =\r\n",
      "\r\n",
      "    9    1    1  -72\r\n",
      "   12    1    0  -97\r\n",
      "   13    2    0  -95\r\n",
      "\r\n"
     ]
    }
   ],
   "source": [
    "A3y = A3y .* (-1);\n",
    "sistema = [A2y A1y y A3y];\n",
    "sistema"
   ]
  },
  {
   "cell_type": "code",
   "execution_count": 10,
   "id": "bc64d6d7",
   "metadata": {},
   "outputs": [
    {
     "name": "stdout",
     "output_type": "stream",
     "text": [
      "ans =\r\n",
      "\r\n",
      "    1.0000         0         0   -9.0000\r\n",
      "         0    1.0000         0   11.0000\r\n",
      "         0         0    1.0000   -2.0000\r\n",
      "\r\n"
     ]
    }
   ],
   "source": [
    "rref (sistema)"
   ]
  },
  {
   "cell_type": "markdown",
   "id": "d94ef985",
   "metadata": {},
   "source": [
    "Por último, al sustituir en la ecuación:\n",
    "$$\\lambda^3+b_1\\lambda^2+b_2\\lambda+b_3=0$$\n"
   ]
  },
  {
   "cell_type": "markdown",
   "id": "b94de705",
   "metadata": {},
   "source": [
    "se obtiene la **ecuación característica:**\n",
    "$$\\lambda^3-9\\lambda^2+11\\lambda-2=0$$"
   ]
  },
  {
   "cell_type": "code",
   "execution_count": null,
   "id": "1e9c8650",
   "metadata": {},
   "outputs": [],
   "source": []
  }
 ],
 "metadata": {
  "kernelspec": {
   "display_name": "Octave",
   "language": "octave",
   "name": "octave"
  },
  "language_info": {
   "file_extension": ".m",
   "help_links": [
    {
     "text": "GNU Octave",
     "url": "https://www.gnu.org/software/octave/support.html"
    },
    {
     "text": "Octave Kernel",
     "url": "https://github.com/Calysto/octave_kernel"
    },
    {
     "text": "MetaKernel Magics",
     "url": "https://metakernel.readthedocs.io/en/latest/source/README.html"
    }
   ],
   "mimetype": "text/x-octave",
   "name": "octave",
   "version": "6.3.0"
  }
 },
 "nbformat": 4,
 "nbformat_minor": 5
}
