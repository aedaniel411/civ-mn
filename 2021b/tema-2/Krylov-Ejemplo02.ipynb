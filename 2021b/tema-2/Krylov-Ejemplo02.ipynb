{
 "cells": [
  {
   "cell_type": "markdown",
   "id": "af46d60e",
   "metadata": {},
   "source": [
    "## Ejemplo 02\n"
   ]
  },
  {
   "cell_type": "code",
   "execution_count": 2,
   "id": "43065195",
   "metadata": {},
   "outputs": [
    {
     "name": "stdout",
     "output_type": "stream",
     "text": [
      "A =\r\n",
      "\r\n",
      "   0   1   1\r\n",
      "   1   2   1\r\n",
      "   1   1   0\r\n",
      "\r\n"
     ]
    }
   ],
   "source": [
    "A=[ 0 1 1;\n",
    "    1 2 1;\n",
    "    1 1 0 ]"
   ]
  },
  {
   "cell_type": "markdown",
   "id": "405591a1",
   "metadata": {},
   "source": [
    "ecuación característica de la forma:\n",
    "\n",
    "$$\\lambda^{n}+b_{1}\\lambda^{n-1}+b_{2}\\lambda^{n-2}+\\dots+b_{n-1}\\lambda+b_n=0$$\n",
    "\n",
    "$$\\lambda^3+b_1\\lambda^2+b_2\\lambda+b_3=0$$\n",
    "\n",
    "$$\\mathbf{A}^{3}\\bar{y}+b_{1}\\mathbf{A}^{2}\\bar{y}+b_{2}\\mathbf{A}\\bar{y}+b_3\\bar{y}=0$$\n",
    "\n",
    "$$\\mathbf{A}^k\\bar{y}=\\mathbf{A}[\\mathbf{A}^{k-1}\\bar{y}]$$"
   ]
  },
  {
   "cell_type": "code",
   "execution_count": 3,
   "id": "09bfdf28",
   "metadata": {},
   "outputs": [
    {
     "name": "stdout",
     "output_type": "stream",
     "text": [
      "y =\r\n",
      "\r\n",
      "   1\r\n",
      "   0\r\n",
      "   0\r\n",
      "\r\n"
     ]
    }
   ],
   "source": [
    "% Vector y en octave\n",
    "y = [1; 0; 0]"
   ]
  },
  {
   "cell_type": "code",
   "execution_count": 4,
   "id": "0941d603",
   "metadata": {},
   "outputs": [
    {
     "name": "stdout",
     "output_type": "stream",
     "text": [
      "A1y =\r\n",
      "\r\n",
      "   0\r\n",
      "   1\r\n",
      "   1\r\n",
      "\r\n"
     ]
    }
   ],
   "source": [
    "A1y = A * y"
   ]
  },
  {
   "cell_type": "code",
   "execution_count": 5,
   "id": "0608639e",
   "metadata": {},
   "outputs": [
    {
     "name": "stdout",
     "output_type": "stream",
     "text": [
      "A2y =\r\n",
      "\r\n",
      "   2\r\n",
      "   3\r\n",
      "   1\r\n",
      "\r\n"
     ]
    }
   ],
   "source": [
    "A2y = A * A1y "
   ]
  },
  {
   "cell_type": "code",
   "execution_count": 6,
   "id": "eec68211",
   "metadata": {},
   "outputs": [
    {
     "name": "stdout",
     "output_type": "stream",
     "text": [
      "A3y =\r\n",
      "\r\n",
      "   4\r\n",
      "   9\r\n",
      "   5\r\n",
      "\r\n"
     ]
    }
   ],
   "source": [
    "A3y = A * A2y"
   ]
  },
  {
   "cell_type": "code",
   "execution_count": 7,
   "id": "1d864c20",
   "metadata": {},
   "outputs": [
    {
     "name": "stdout",
     "output_type": "stream",
     "text": [
      "A3y =\r\n",
      "\r\n",
      "  -4\r\n",
      "  -9\r\n",
      "  -5\r\n",
      "\r\n"
     ]
    }
   ],
   "source": [
    "A3y = A3y .* (-1)"
   ]
  },
  {
   "cell_type": "code",
   "execution_count": 8,
   "id": "7edebf3b",
   "metadata": {},
   "outputs": [
    {
     "name": "stdout",
     "output_type": "stream",
     "text": [
      "sistema =\r\n",
      "\r\n",
      "   2   0   1  -4\r\n",
      "   3   1   0  -9\r\n",
      "   1   1   0  -5\r\n",
      "\r\n"
     ]
    }
   ],
   "source": [
    "sistema = [A2y A1y y A3y]"
   ]
  },
  {
   "cell_type": "code",
   "execution_count": 9,
   "id": "3b5924e9",
   "metadata": {},
   "outputs": [
    {
     "name": "stdout",
     "output_type": "stream",
     "text": [
      "ans =\r\n",
      "\r\n",
      "   1.0000        0        0  -2.0000\r\n",
      "        0   1.0000        0  -3.0000\r\n",
      "        0        0   1.0000   0.0000\r\n",
      "\r\n"
     ]
    }
   ],
   "source": [
    "rref (sistema)"
   ]
  },
  {
   "cell_type": "markdown",
   "id": "d6d013f9",
   "metadata": {},
   "source": [
    "Por último, al sustituir en la ecuación:\n",
    "$$\\lambda^3+b_1\\lambda^2+b_2\\lambda+b_3=0$$\n",
    "se obtiene la **ecuación característica:**\n",
    "$$\\lambda^3-2\\lambda^2-3\\lambda=0$$"
   ]
  },
  {
   "cell_type": "code",
   "execution_count": null,
   "id": "4ccc6c8b",
   "metadata": {},
   "outputs": [],
   "source": []
  }
 ],
 "metadata": {
  "kernelspec": {
   "display_name": "Octave",
   "language": "octave",
   "name": "octave"
  },
  "language_info": {
   "file_extension": ".m",
   "help_links": [
    {
     "text": "GNU Octave",
     "url": "https://www.gnu.org/software/octave/support.html"
    },
    {
     "text": "Octave Kernel",
     "url": "https://github.com/Calysto/octave_kernel"
    },
    {
     "text": "MetaKernel Magics",
     "url": "https://metakernel.readthedocs.io/en/latest/source/README.html"
    }
   ],
   "mimetype": "text/x-octave",
   "name": "octave",
   "version": "6.3.0"
  }
 },
 "nbformat": 4,
 "nbformat_minor": 5
}
