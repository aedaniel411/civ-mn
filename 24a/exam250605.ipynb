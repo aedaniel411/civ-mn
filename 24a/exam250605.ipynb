{
 "cells": [
  {
   "cell_type": "markdown",
   "id": "f2d6beec-a1ed-4958-9fd5-8c9edae6f196",
   "metadata": {},
   "source": [
    "# Examen de Métodos Numéricos\n",
    "5 de junio de 2025"
   ]
  },
  {
   "cell_type": "markdown",
   "id": "df4c6a02-828b-462e-b578-c812ed7f93bd",
   "metadata": {},
   "source": [
    "### 1. Resuelve, usando el método de bisección, la ecuación $f(x) = x^3 - 4x + 1$ en el intervalo $[0, 2]$. Realiza tres iteraciones."
   ]
  },
  {
   "cell_type": "code",
   "execution_count": null,
   "id": "de0f80ee-fedd-419b-9ced-327d03fd154f",
   "metadata": {},
   "outputs": [],
   "source": [
    "function y = f1(x)\n",
    "    y = x.^3 - 4*x + 1;\n",
    "end\n",
    "\n",
    "a = 0;\n",
    "b = 2;\n",
    "\n",
    "for i = 0:3\n",
    "    printf('%d \\n', i)\n",
    "end"
   ]
  },
  {
   "cell_type": "markdown",
   "id": "3371d0f5-4faf-448e-8880-b5535c5f8583",
   "metadata": {},
   "source": [
    "### 2. Usa el método de Newton-Raphson para encontrar una raíz de la ecuación $f(x) = \\cos(x) - x$ con $x_0 = 0.5$. Realiza dos iteraciones."
   ]
  },
  {
   "cell_type": "code",
   "execution_count": null,
   "id": "c283fe47-9abc-4d7d-b0ef-7438acf20d47",
   "metadata": {},
   "outputs": [],
   "source": []
  },
  {
   "cell_type": "code",
   "execution_count": null,
   "id": "a28e5bdd-6c58-471a-a0c0-c7933ddb4007",
   "metadata": {},
   "outputs": [],
   "source": []
  },
  {
   "cell_type": "markdown",
   "id": "e99d96cc-1737-4d6c-bcfd-61a43bff0f4e",
   "metadata": {},
   "source": [
    "### 3. Utiliza el método de bisección para encontrar una raíz de la ecuación $f(x) = x^3 - 5x + 1$ en el intervalo $[0, 2]$, realizando dos iteraciones. Muestra el procedimiento."
   ]
  },
  {
   "cell_type": "code",
   "execution_count": null,
   "id": "75e6646a-fdbd-4f9d-9fca-d4683113ab4d",
   "metadata": {},
   "outputs": [],
   "source": []
  },
  {
   "cell_type": "markdown",
   "id": "c7859baf-cba3-4be4-a5e6-4c8ae79e46c5",
   "metadata": {},
   "source": [
    "### 4. Plantea la ecuación de punto fijo equivalente para la ecuación $e^{-x} = x$. ¿Cuál sería la función $g(x)$ y cómo determinarías si el método converge?"
   ]
  },
  {
   "cell_type": "code",
   "execution_count": null,
   "id": "276f6315-5517-446b-95ee-17642624f0c4",
   "metadata": {},
   "outputs": [],
   "source": []
  },
  {
   "cell_type": "markdown",
   "id": "fcd25b45-281e-4921-b091-fede87a2e2e4",
   "metadata": {},
   "source": [
    "### 5.  Aplica el método de Newton-Raphson para una sola iteración con $x_0 = 1$ para la función $f(x) = x^2 - 2$. Muestra el desarrollo y el resultado de $x_1$."
   ]
  },
  {
   "cell_type": "code",
   "execution_count": null,
   "id": "39b8e7e2-35b6-419a-ba7c-cb7536aacbb3",
   "metadata": {},
   "outputs": [],
   "source": []
  },
  {
   "cell_type": "markdown",
   "id": "1545ed01-1699-4084-9592-9498c97cb907",
   "metadata": {},
   "source": [
    "### 6. Resuelve el siguiente sistema de ecuaciones usando una sola iteración del método de Gauss-Seidel. Usa $x_1^{(0)} = 0$, $x_2^{(0)} = 0$:\n",
    "$$\\begin{cases}\n",
    "3x_1 + x_2 = 9 \\\\\n",
    "x_1 + 4x_2 = 8\n",
    "\\end{cases}$$"
   ]
  },
  {
   "cell_type": "code",
   "execution_count": null,
   "id": "231d2f7d-6304-4983-88e1-9425989d47eb",
   "metadata": {},
   "outputs": [],
   "source": []
  },
  {
   "cell_type": "markdown",
   "id": "8683a3bc-9190-4f74-9ccf-92b96b6b07b2",
   "metadata": {},
   "source": [
    "### 7. Explica brevemente la diferencia entre los métodos de Gauss y Gauss-Jordan para la solución de sistemas lineales."
   ]
  },
  {
   "cell_type": "code",
   "execution_count": null,
   "id": "30e799b3-040b-4e86-ae94-f3f53494e392",
   "metadata": {},
   "outputs": [],
   "source": []
  },
  {
   "cell_type": "markdown",
   "id": "dfc24a3d-7fc0-4e90-b275-cc7d4606de1b",
   "metadata": {},
   "source": [
    "### 8. Dado el siguiente conjunto de puntos: $(1, 2)$, $(2, 4.1)$, $(3, 6.2)$, ajusta una recta de la forma $y = ax + b$ utilizando el método de mínimos cuadrados (no es necesario resolver, solo plantea el sistema de ecuaciones para $a$ y $b$)."
   ]
  },
  {
   "cell_type": "code",
   "execution_count": null,
   "id": "11587125-ffd0-4b99-a9d0-2ca4d549bc14",
   "metadata": {},
   "outputs": [],
   "source": []
  },
  {
   "cell_type": "markdown",
   "id": "efb04f05-70b6-40b2-a836-451ced3082f3",
   "metadata": {},
   "source": [
    "### 9. Ajusta un polinomio de segundo grado a los puntos $(1, 2)$, $(2, 3.9)$ y $(3, 6.1)$ usando el método de mínimos cuadrados. Plantea el sistema de ecuaciones para determinar los coeficientes del polinomio $y = ax^2 + bx + c$."
   ]
  },
  {
   "cell_type": "code",
   "execution_count": null,
   "id": "18dcca5f-0940-47c0-96ff-68232782c26c",
   "metadata": {},
   "outputs": [],
   "source": []
  },
  {
   "cell_type": "markdown",
   "id": "b3475ad4-e8eb-4026-82f8-a353df2d86a5",
   "metadata": {},
   "source": [
    "### 10. Utiliza el polinomio interpolante de Lagrange para interpolar el valor de $f(2)$ dados los puntos $(1, 1)$, $(3, 3)$, $(4, 13)$"
   ]
  },
  {
   "cell_type": "code",
   "execution_count": null,
   "id": "06605909-9608-4800-b070-1961cbac60c9",
   "metadata": {},
   "outputs": [],
   "source": []
  },
  {
   "cell_type": "markdown",
   "id": "453931f9-46c4-472c-83d5-2f9e3fca12b5",
   "metadata": {},
   "source": [
    "### 11. Explica la diferencia entre el método del trapecio y el método de Simpson 1/3 para integración numérica."
   ]
  },
  {
   "cell_type": "code",
   "execution_count": null,
   "id": "b1076bad-abae-44e5-8030-edeeea1161c0",
   "metadata": {},
   "outputs": [],
   "source": []
  },
  {
   "cell_type": "markdown",
   "id": "15428a19-9d67-4d1f-bafd-35777f31e7c4",
   "metadata": {},
   "source": [
    "### 12. Calcula la integral aproximada de $f(x) = x^2$ de $x = 0$ a $x = 2$ usando el método del trapecio compuesto con $n=2$ subintervalos. Muestra tu procedimiento."
   ]
  },
  {
   "cell_type": "code",
   "execution_count": null,
   "id": "850afa00-01ca-4d4b-8f29-504fd84dd1c5",
   "metadata": {},
   "outputs": [],
   "source": []
  }
 ],
 "metadata": {
  "kernelspec": {
   "display_name": "Octave",
   "language": "octave",
   "name": "octave"
  },
  "language_info": {
   "name": ""
  }
 },
 "nbformat": 4,
 "nbformat_minor": 5
}
